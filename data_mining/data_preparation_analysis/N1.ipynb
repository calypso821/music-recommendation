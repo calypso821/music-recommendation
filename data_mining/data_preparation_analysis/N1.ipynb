{
 "cells": [
  {
   "cell_type": "markdown",
   "metadata": {
    "lang": "sl"
   },
   "source": [
    "## Priprava podatkov, osnovne statistike in vizualizacija\n",
    "\n",
    "Podatkovno rudarjenje, naloga, `21.03. 2022`  \n",
    "**`Matic Knez`**"
   ]
  },
  {
   "cell_type": "markdown",
   "metadata": {
    "lang": "sl"
   },
   "source": [
    "Neizogiben del vsakega projekta na področju podatkovnega rudarjenja je iskanje,\n",
    "urejanje in priprava podatkov. V tej nalogi boste spoznali primer podatkovne\n",
    "zbirke in uporabili postopke za pretvorbo podatkov v ustrezno obliko ter pregled in\n",
    "prikaz osnovnih statistik."
   ]
  },
  {
   "cell_type": "markdown",
   "metadata": {
    "lang": "sl"
   },
   "source": [
    "### Podatki\n",
    "\n",
    "V nalogi boste pregledali in pripravili podatke gledanosti Hollywoodskih filmov\n",
    "zbirke [MovieLens](https://grouplens.org/datasets/movielens/) v obdobju **1995-2016**.\n",
    "\n",
    "Iste podatke boste uporabili v vseh nalogah, zato jih dodobra spoznajte. Gre za podatkovno zbirko za\n",
    "vrednotenje priporočilnih sistemov, ki vsebuje gledalce ter njihove ocene za posamezni film na lestvici 1 do 5. \n",
    "Poleg osnovne matrike uporabnikov in ocen vsebuje še dodatne podatke o filmih (npr. žanr, datum, oznake,\n",
    "igralci).\n",
    "\n",
    "Podatki so v mapi `./podatki/ml-latest-small`. Podatkovna zbirka vsebuje naslednje datoteke:\n",
    "\n",
    "* ratings.csv: podatki o uporabnikih in ocenah,\n",
    "* movies.csv: podatki o žanrih filmov,\n",
    "* cast.csv: podatki o igralcih,\n",
    "* tags.csv: podatki o oznakah (ang. \\emph{tags}),\n",
    "* links.csv: povezave na sorodne podatkovne zbirke.\n",
    "\n",
    "\n",
    "Pred pričetkom reševanja naloge si dobro oglejte podatke in datoteko **README.txt**. Podrobnosti o zbirki lahko preberete na [spletni strani](http://files.grouplens.org/datasets/movielens/ml-latest-small-README.html).\n",
    "\n",
    "Pripravite metode za nalaganje podatkov v ustrezne podatkovne strukture. Te vam bodo prišle\n",
    "prav tudi pri nadaljnjih nalogah.\n",
    "Bodite pozorni na velikost podatkov."
   ]
  },
  {
   "cell_type": "markdown",
   "metadata": {
    "lang": "sl"
   },
   "source": [
    "Zapišite kodo za branje datotek in pripravo ustreznih matrik (in drugih struktur) podatkov, ki jih boste uporabi pri odgovarjanju na spodnja vprašanja.\n",
    "\n",
    "Kodo lahko razdelite v več celic."
   ]
  },
  {
   "cell_type": "code",
   "execution_count": 1,
   "metadata": {},
   "outputs": [],
   "source": [
    "from csv import DictReader\n",
    "import numpy as np\n",
    "np.set_printoptions(suppress=True,\n",
    "   formatter={'float_kind':'{:0.1f}'.format})"
   ]
  },
  {
   "cell_type": "code",
   "execution_count": 2,
   "metadata": {},
   "outputs": [
    {
     "data": {
      "text/plain": [
       "(100004, 4)"
      ]
     },
     "execution_count": 2,
     "metadata": {},
     "output_type": "execute_result"
    }
   ],
   "source": [
    "# raiting_data (list)\n",
    "# user id, movie id, raiting, date\n",
    "\n",
    "raiting_data = []\n",
    "reader = DictReader(open('podatki/ml-latest-small/ratings.csv', 'rt', encoding='utf-8'))\n",
    "for row in reader:\n",
    "    tab = []\n",
    "    tab.append(row[\"userId\"])\n",
    "    tab.append(row[\"movieId\"])\n",
    "    tab.append(row[\"rating\"])\n",
    "    tab.append(row[\"timestamp\"])\n",
    "    raiting_data.append(tab) \n",
    "\n",
    "raiting_data = np.asarray(raiting_data, dtype=np.float64) # convert to numpy array \n",
    "raiting_data.shape"
   ]
  },
  {
   "cell_type": "code",
   "execution_count": 3,
   "metadata": {},
   "outputs": [
    {
     "data": {
      "text/plain": [
       "9125"
      ]
     },
     "execution_count": 3,
     "metadata": {},
     "output_type": "execute_result"
    }
   ],
   "source": [
    "# movies_data (dictionary) \n",
    "# key = movie id\n",
    "# value = title, genre\n",
    "\n",
    "movies_data = dict()\n",
    "reader = DictReader(open('podatki/ml-latest-small/movies.csv', 'rt', encoding='utf-8'))\n",
    "for row in reader:\n",
    "    movies_data[float(row[\"movieId\"])] = (row[\"title\"], row[\"genres\"])\n",
    "    \n",
    "len(movies_data)"
   ]
  },
  {
   "cell_type": "markdown",
   "metadata": {},
   "source": [
    "V zgornjih 2 primerih smo s pomocjo DictReader po vrsticah brali datoteko in podatke (vrstice) shranjevali v tabelo in slovar."
   ]
  },
  {
   "cell_type": "markdown",
   "metadata": {
    "lang": "sl"
   },
   "source": [
    "### Vprašanja\n",
    "\n",
    "Glavni namen podatkovnega rudarjenja je *odkrivanje znanj iz podatkov*,\n",
    "torej odgovarjanje na vprašanja z uporabo računskih postopkov.\n",
    "\n",
    "Z uporabo principov, ki ste jih spoznali na vajah in predavanjih, odgovorite na\n",
    "spodnja vprašanja. Pri vsakem vprašanju dobro premislite, na kakšen način boste\n",
    "najbolje podali, prikazali oz. utemeljili odgovor. Bistven del so odgovori na\n",
    "vprašanja in ne implementacija vaše rešitve."
   ]
  },
  {
   "cell_type": "markdown",
   "metadata": {
    "lang": "sl"
   },
   "source": [
    "#### 1. vprašanje (15%):\n",
    "Kateri filmi so v povprečju najbolje ocenjeni?  Pripravite seznam\n",
    "filmov ter njihovih povprečnih ocen in izpišite 10 filmov z vrha seznama.\n",
    "Opazite pri takem ocenjevanju kakšno težavo? Kako bi jo lahko rešili? Kakšni so\n",
    "rezultati tedaj?\n",
    "\n",
    "Kodo lahko razdelite v več celic."
   ]
  },
  {
   "cell_type": "code",
   "execution_count": 4,
   "metadata": {},
   "outputs": [],
   "source": [
    "# v tabelo shranimo vse filme, ki so bili v datoteki rating ocenjeni \n",
    "movies = [movie for movie in raiting_data[:, 1]]\n",
    "# ker so posamezni filmi bili ocenjeni veckrat, izlocimo duplikate\n",
    "movies = np.unique(movies)\n",
    "\n",
    "# funkcija filtrira vrstice glede na vhodni parameter (movie)\n",
    "# vrne tabelo ocen\n",
    "def ocene_filma(movie):\n",
    "    row = raiting_data[:, 1] == movie\n",
    "    return raiting_data[row, 2]\n",
    "\n",
    "# izracunamo povprecje ocen\n",
    "# v tabelo (povprecja) shranimo povprecje in film\n",
    "povprecja = [(np.mean(ocene_filma(movie)), movie) for movie in movies]\n",
    "\n",
    "# povprecja filmov sortiramo\n",
    "sorted_povp = sorted(povprecja, reverse=True)"
   ]
  },
  {
   "cell_type": "code",
   "execution_count": 5,
   "metadata": {},
   "outputs": [
    {
     "name": "stdout",
     "output_type": "stream",
     "text": [
      "Povp: 5.0 ('The Beatles: Eight Days a Week - The Touring Years (2016)', 'Documentary')\n",
      "Povp: 5.0 ('Rustom (2016)', 'Romance|Thriller')\n",
      "Povp: 5.0 ('The Last Brickmaker in America (2001)', 'Drama')\n",
      "Povp: 5.0 ('Survive and Advance (2013)', '(no genres listed)')\n",
      "Povp: 5.0 ('Ice Age: The Great Egg-Scapade (2016)', 'Adventure|Animation|Children|Comedy')\n",
      "Povp: 5.0 ('The Last Days of Emma Blank (2009)', 'Comedy')\n",
      "Povp: 5.0 ('Me Before You (2016)', 'Drama|Romance')\n",
      "Povp: 5.0 ('Making a Murderer (2015)', 'Documentary')\n",
      "Povp: 5.0 ('World of Tomorrow (2015)', 'Animation|Comedy')\n",
      "Povp: 5.0 ('Schneider vs. Bax (2015)', 'Comedy|Thriller')\n"
     ]
    }
   ],
   "source": [
    "# izpisemo prvih 10 elementov (najbolje ocenjenih) \n",
    "\n",
    "#najboljsi = sorted_povp[-10:] # najslabsih 10\n",
    "najboljsi = sorted_povp[:10]\n",
    "for movie in najboljsi:\n",
    "    print(\"Povp:\", movie[0], movies_data[movie[1]])"
   ]
  },
  {
   "cell_type": "code",
   "execution_count": 6,
   "metadata": {},
   "outputs": [],
   "source": [
    "# TEZAVA v primeru, da imamo ocen za nek filem premalo (< 5)\n",
    "# v tem primeru je lahko povprecje slabo ocenjeno \n",
    "\n",
    "# Da se prepricamo ali je res tako, izpisemo stevilo ocen pri vsakem filmu\n",
    "povprecja_stocenjenih = [(np.mean(ocene_filma(movie)), movie, len(ocene_filma(movie))) for movie in movies]\n",
    "sorted_povp_st = sorted(povprecja_stocenjenih, reverse=True)"
   ]
  },
  {
   "cell_type": "code",
   "execution_count": 7,
   "metadata": {
    "scrolled": true
   },
   "outputs": [
    {
     "name": "stdout",
     "output_type": "stream",
     "text": [
      "10 najbolse ocenjenih:\n",
      "Povp: 5.0 st. ocen: 1 ('The Beatles: Eight Days a Week - The Touring Years (2016)', 'Documentary')\n",
      "Povp: 5.0 st. ocen: 1 ('Rustom (2016)', 'Romance|Thriller')\n",
      "Povp: 5.0 st. ocen: 1 ('The Last Brickmaker in America (2001)', 'Drama')\n",
      "Povp: 5.0 st. ocen: 1 ('Survive and Advance (2013)', '(no genres listed)')\n",
      "Povp: 5.0 st. ocen: 1 ('Ice Age: The Great Egg-Scapade (2016)', 'Adventure|Animation|Children|Comedy')\n",
      "Povp: 5.0 st. ocen: 1 ('The Last Days of Emma Blank (2009)', 'Comedy')\n",
      "Povp: 5.0 st. ocen: 1 ('Me Before You (2016)', 'Drama|Romance')\n",
      "Povp: 5.0 st. ocen: 1 ('Making a Murderer (2015)', 'Documentary')\n",
      "Povp: 5.0 st. ocen: 1 ('World of Tomorrow (2015)', 'Animation|Comedy')\n",
      "Povp: 5.0 st. ocen: 1 ('Schneider vs. Bax (2015)', 'Comedy|Thriller')\n",
      "\n",
      "10 najslabse ocenjenih:\n",
      "Povp: 0.5 st. ocen: 1 ('Funny Lady (1975)', 'Comedy|Musical')\n",
      "Povp: 0.5 st. ocen: 1 ('Vamp (1986)', 'Comedy|Horror')\n",
      "Povp: 0.5 st. ocen: 1 ('Worth Winning (1989)', 'Comedy')\n",
      "Povp: 0.5 st. ocen: 1 ('Arthur 2: On the Rocks (1988)', 'Comedy|Romance')\n",
      "Povp: 0.5 st. ocen: 1 ('Horrors of Spider Island (Ein Toter Hing im Netz) (1960)', 'Horror|Sci-Fi')\n",
      "Povp: 0.5 st. ocen: 1 ('Killer Shrews, The (1959)', 'Horror|Sci-Fi')\n",
      "Povp: 0.5 st. ocen: 1 ('Catfish in Black Bean Sauce (2000)', 'Comedy|Drama')\n",
      "Povp: 0.5 st. ocen: 1 ('Whiteboyz (1999)', 'Comedy|Drama')\n",
      "Povp: 0.5 st. ocen: 1 ('Merry War, A (1997)', 'Comedy')\n",
      "Povp: 0.5 st. ocen: 1 ('Santa with Muscles (1996)', 'Comedy')\n"
     ]
    }
   ],
   "source": [
    "# izpisemo najboljsih in najslabsih 10 in vidimo, da imajo vsi izpisani samo po 1 oceno\n",
    "# povprecna ocena je tako sestavljena iz samo 1 ocene, kar pomeni da je slaba ocena za povprecje\n",
    "\n",
    "najslabsi_st = sorted_povp_st[-10:] # najslabsih 10\n",
    "najboljsi_st = sorted_povp_st[:10]\n",
    "\n",
    "print(\"10 najbolse ocenjenih:\")\n",
    "for movie in najboljsi_st:\n",
    "    print(\"Povp:\", movie[0], \"st. ocen:\", movie[2], movies_data[movie[1]])\n",
    "print()\n",
    "print(\"10 najslabse ocenjenih:\")\n",
    "for movie in najslabsi_st:\n",
    "    print(\"Povp:\", movie[0], \"st. ocen:\", movie[2], movies_data[movie[1]])"
   ]
  },
  {
   "cell_type": "markdown",
   "metadata": {},
   "source": [
    "Vidimo, da filmi z zelo slabo oceno (0,5 - 1,5) imajo samo 1 oceno in enako na drugem koncu filmi z zelo dobro oceno (4,5 - 5) imajo ravno tako 1 ocena.\n",
    "\n",
    "Ker je povprecna ocena teh filmov sestavljena le iz 1 same ocene pomeni, da je ta povprecna ocena za film slaba.\n",
    "\n",
    "Da bi bila povprecna ocena filma dobra, bi potrebovali vsaj 10 ocen.\n",
    "\n",
    "Vec kot imamo ocen, bolj tocna je povprecna ocena.\n",
    "\n",
    "Tezavo resimo tako, da upostevamo le filme, pri katerih je vec kot 10 ocen (if len(ocene_filma(movie)) > 10)."
   ]
  },
  {
   "cell_type": "code",
   "execution_count": 8,
   "metadata": {},
   "outputs": [],
   "source": [
    "# dodamo len(ocene_filma(movie)) > 10, ki izloci filme, ki imajo manj kot 10 ocen\n",
    "povprecja2 = [(np.mean(ocene_filma(movie)), movie, len(ocene_filma(movie))) for movie in movies if len(ocene_filma(movie)) > 10]\n",
    "sorted_povp2 = sorted(povprecja2, reverse=True)"
   ]
  },
  {
   "cell_type": "code",
   "execution_count": 9,
   "metadata": {},
   "outputs": [
    {
     "name": "stdout",
     "output_type": "stream",
     "text": [
      "10 povprecno najboljse ocenjenih filmov:\n",
      "Povprecje: 4.64 st. ocen: 11 ('Best Years of Our Lives, The (1946)', 'Drama|War')\n",
      "Povprecje: 4.54 st. ocen: 12 ('Inherit the Wind (1960)', 'Drama')\n",
      "Povprecje: 4.49 st. ocen: 200 ('Godfather, The (1972)', 'Crime|Drama')\n",
      "Povprecje: 4.49 st. ocen: 311 ('Shawshank Redemption, The (1994)', 'Crime|Drama')\n",
      "Povprecje: 4.46 st. ocen: 12 ('Tom Jones (1963)', 'Adventure|Comedy|Romance')\n",
      "Povprecje: 4.45 st. ocen: 11 ('Gladiator (1992)', 'Action|Drama')\n",
      "Povprecje: 4.45 st. ocen: 29 ('On the Waterfront (1954)', 'Crime|Drama')\n",
      "Povprecje: 4.44 st. ocen: 16 ('When We Were Kings (1996)', 'Documentary')\n",
      "Povprecje: 4.43 st. ocen: 38 ('All About Eve (1950)', 'Drama')\n",
      "Povprecje: 4.42 st. ocen: 26 ('Ran (1985)', 'Drama|War')\n",
      "\n",
      "10 povprecno najslabse ocenjenih filmov:\n",
      "Povprecje: 1.21 st. ocen: 19 ('Battlefield Earth (2000)', 'Action|Sci-Fi')\n",
      "Povprecje: 1.65 st. ocen: 23 ('Speed 2: Cruise Control (1997)', 'Action|Romance|Thriller')\n",
      "Povprecje: 1.71 st. ocen: 12 ('Police Academy 6: City Under Siege (1989)', 'Comedy|Crime')\n",
      "Povprecje: 1.74 st. ocen: 17 ('Super Mario Bros. (1993)', 'Action|Adventure|Children|Comedy|Fantasy|Sci-Fi')\n",
      "Povprecje: 1.79 st. ocen: 12 ('Jaws 3-D (1983)', 'Action|Horror')\n",
      "Povprecje: 1.79 st. ocen: 12 ('Howard the Duck (1986)', 'Adventure|Comedy|Sci-Fi')\n",
      "Povprecje: 1.79 st. ocen: 12 ('Blade: Trinity (2004)', 'Action|Fantasy|Horror|Thriller')\n",
      "Povprecje: 1.80 st. ocen: 15 ('Mighty Morphin Power Rangers: The Movie (1995)', 'Action|Children')\n",
      "Povprecje: 1.81 st. ocen: 13 ('Spice World (1997)', 'Comedy')\n"
     ]
    }
   ],
   "source": [
    "najslabsi_st2 = sorted_povp2[-1:-10:-1]\n",
    "najboljsi_st2 = sorted_povp2[:10]\n",
    "print(\"10 povprecno najboljse ocenjenih filmov:\")\n",
    "for movie in najboljsi_st2:\n",
    "    print(\"Povprecje:\", \"{:.2f}\".format(movie[0]), \"st. ocen:\", movie[2], movies_data[movie[1]])\n",
    "print()\n",
    "print(\"10 povprecno najslabse ocenjenih filmov:\")\n",
    "for movie in najslabsi_st2:\n",
    "    print(\"Povprecje:\", \"{:.2f}\".format(movie[0]), \"st. ocen:\", movie[2], movies_data[movie[1]])"
   ]
  },
  {
   "cell_type": "markdown",
   "metadata": {},
   "source": [
    "Seznam povpvprecji smo ponovno zgradili tako, da nismo upostevali primere, kejer je manj kot 10 ocen.\n",
    "\n",
    "Povprecne ocene filmov zgledajo bolj tocne."
   ]
  },
  {
   "cell_type": "markdown",
   "metadata": {
    "lang": "sl"
   },
   "source": [
    "#### 2. vprašanje (15%):\n",
    "Posamezni film pripada enemu ali več žanrom. \n",
    "Koliko je vseh žanrov? Prikaži porazdelitev žanrov z uporabo ustrezne\n",
    "vizualizacije.\n",
    "\n",
    "Kodo lahko razdelite v več celic."
   ]
  },
  {
   "cell_type": "code",
   "execution_count": 10,
   "metadata": {},
   "outputs": [
    {
     "data": {
      "text/plain": [
       "defaultdict(int,\n",
       "            {'Adventure': 1117,\n",
       "             'Animation': 447,\n",
       "             'Children': 583,\n",
       "             'Comedy': 3315,\n",
       "             'Fantasy': 654,\n",
       "             'Romance': 1545,\n",
       "             'Drama': 4365,\n",
       "             'Action': 1545,\n",
       "             'Crime': 1100,\n",
       "             'Thriller': 1729,\n",
       "             'Horror': 877,\n",
       "             'Mystery': 543,\n",
       "             'Sci-Fi': 792,\n",
       "             'Documentary': 495,\n",
       "             'IMAX': 153,\n",
       "             'War': 367,\n",
       "             'Musical': 394,\n",
       "             'Western': 168,\n",
       "             'Film-Noir': 133,\n",
       "             '(no genres listed)': 18})"
      ]
     },
     "execution_count": 10,
     "metadata": {},
     "output_type": "execute_result"
    }
   ],
   "source": [
    "from collections import defaultdict\n",
    "\n",
    "# vse zanre shranimo v slovar in stejemo vse njihove pojavitve v filmih\n",
    "\n",
    "zanri_data = defaultdict(int)\n",
    "for title, zanri in movies_data.values():\n",
    "    for zanr in zanri.split('|'):\n",
    "        zanri_data[zanr] += 1\n",
    "zanri_data"
   ]
  },
  {
   "cell_type": "code",
   "execution_count": 11,
   "metadata": {},
   "outputs": [
    {
     "data": {
      "text/plain": [
       "19"
      ]
     },
     "execution_count": 11,
     "metadata": {},
     "output_type": "execute_result"
    }
   ],
   "source": [
    "len(zanri_data) - 1\n",
    "# vseh zanrov je 19\n",
    "# nekaj filmov pa je brez zanra (No genres listed)"
   ]
  },
  {
   "cell_type": "code",
   "execution_count": 12,
   "metadata": {},
   "outputs": [
    {
     "data": {
      "image/png": "[encoded data removed]",
      "text/plain": [
       "<Figure size 1080x576 with 2 Axes>"
      ]
     },
     "metadata": {
      "needs_background": "light"
     },
     "output_type": "display_data"
    }
   ],
   "source": [
    "import matplotlib.pyplot as plt\n",
    "\n",
    "# definiramo 2 plota\n",
    "fig, axes = plt.subplots(1,2, figsize=(15,8))\n",
    "\n",
    "x = list(zanri_data.keys()) # zanri\n",
    "y = [zanri_data[key] for key in x]  # st. filmov za posamezen zanr\n",
    "\n",
    "# obrnemo tabelo, da lahko sortiramo po stevilo filmov\n",
    "zanri_tab = [(cnt, zanr) for zanr, cnt in zanri_data.items()]\n",
    "zanri_tab = sorted(zanri_tab)\n",
    "\n",
    "x1 = []\n",
    "y1 = []\n",
    "for cnt, zanr in zanri_tab:\n",
    "    x1.append(zanr)\n",
    "    y1.append(cnt)\n",
    "\n",
    "axes[0].barh(x1, y1)\n",
    "axes[1].barh(x, y)\n",
    "\n",
    "axes[0].set_title(\"Porazdelite zanrov - sorted\")\n",
    "axes[1].set_title(\"Porazdelite zanrov - unsorted\")\n",
    "\n",
    "axes[0].set_xlabel(\"Stevilo filmov\")\n",
    "axes[1].set_xlabel(\"Stevilo filmov\")\n",
    "axes[0].set_ylabel(\"Zanri\")\n",
    "axes[1].set_ylabel(\"Zanri\")\n",
    "\n",
    "fig.tight_layout()\n",
    "plt.show()"
   ]
  },
  {
   "cell_type": "markdown",
   "metadata": {
    "lang": "sl"
   },
   "source": [
    "Najprej sem iz datoteke v slovar shranil zanre in njihove pojavitve v filmih.\n",
    "\n",
    "Iz tega sem ugotovil, da je vseh zanrov 19.\n",
    "\n",
    "Nato sem porazdelitev zanrov prikazal s horizontalnim grafom (barh)."
   ]
  },
  {
   "cell_type": "markdown",
   "metadata": {
    "lang": "sl"
   },
   "source": [
    "#### 3. vprašanje (20%):\n",
    "Število ocen (ogledov) se za posamezni film razlikuje. Ali\n",
    "obstaja povezava med gledanostjo in povprečno oceno filma? Opišite postopek, ki\n",
    "ste ga uporabili pri odgovarjanju na vprašanje.\n",
    "\n",
    "Kodo lahko razdelite v več celic."
   ]
  },
  {
   "cell_type": "code",
   "execution_count": 13,
   "metadata": {},
   "outputs": [],
   "source": [
    "# sestavimo tabelo povprecen ocene, stevilo ocen, film\n",
    "# tabelo nato pretvorimo v numpy array za lazje operacije\n",
    "povprecja3 = [(np.mean(ocene_filma(movie)), len(ocene_filma(movie)), movie) for movie in movies if len(ocene_filma(movie)) > 10]\n",
    "ocene = np.asarray(povprecja3, dtype=np.float64)"
   ]
  },
  {
   "cell_type": "code",
   "execution_count": 14,
   "metadata": {},
   "outputs": [
    {
     "data": {
      "image/png": "[encoded data removed]",
      "text/plain": [
       "<Figure size 576x360 with 1 Axes>"
      ]
     },
     "metadata": {
      "needs_background": "light"
     },
     "output_type": "display_data"
    }
   ],
   "source": [
    "# da preverimo povezanost med gledanostjo in povprecno oceno izrisemo razsevni diagram (scatter plot)\n",
    "\n",
    "# x os - povprecna ocena\n",
    "# y os - stevilo ocen\n",
    "x = ocene[:, 0]\n",
    "y = ocene[:, 1]\n",
    "\n",
    "plt.figure(figsize = (8, 5))\n",
    "plt.plot(x, y, \"k.\")\n",
    "\n",
    "plt.title(\"Povezanost (stevilo ocen in povprecno ocena filma)\")\n",
    "plt.xlabel('ocena')\n",
    "plt.ylabel('st. ocen')\n",
    "\n",
    "plt.show()"
   ]
  },
  {
   "cell_type": "markdown",
   "metadata": {},
   "source": [
    "Vidimo, da ni nekaksne velike povezanosti med povprecno oceno in stevilo ocen filma. \n",
    "\n",
    "Opazimo, da so filmi, ki so prejeli najvec ocen, povprecno ocenjeni s 3 do 4.5 povprecno vrednostjo.\n",
    "\n",
    "Povezanost preverimo se s Pearsonovim koeficientom korelacije."
   ]
  },
  {
   "cell_type": "code",
   "execution_count": 15,
   "metadata": {},
   "outputs": [
    {
     "data": {
      "text/plain": [
       "0.24446724589268085"
      ]
     },
     "execution_count": 15,
     "metadata": {},
     "output_type": "execute_result"
    }
   ],
   "source": [
    "def pearson(x, y):\n",
    "    return (x - np.mean(x)) * (y - np.mean(y)) / (np.std(x) * np.std(y))\n",
    "x = ocene[:, 0]    # povprecne ocene\n",
    "y = ocene[:, 1]    # st. ocen (gledanost)\n",
    "pearson(x, y).mean() # koleracija je velika (blizu 1)"
   ]
  },
  {
   "cell_type": "markdown",
   "metadata": {
    "lang": "sl"
   },
   "source": [
    "Koeficient koleracije med povprecno oceno in stevilom ocen filma je 0.244, kar pomeni da je povezava med tema 2 atributoma mala (sibka).\n",
    "\n",
    "Povezanost med 2 atributoma predstavimo se s funkcijo poradelitve."
   ]
  },
  {
   "cell_type": "code",
   "execution_count": 16,
   "metadata": {},
   "outputs": [
    {
     "name": "stdout",
     "output_type": "stream",
     "text": [
      "Povp: 4.64 st. ocen 11 ('Best Years of Our Lives, The (1946)', 'Drama|War')\n",
      "Povp: 4.54 st. ocen 12 ('Inherit the Wind (1960)', 'Drama')\n",
      "Povp: 4.49 st. ocen 200 ('Godfather, The (1972)', 'Crime|Drama')\n",
      "Povp: 4.49 st. ocen 311 ('Shawshank Redemption, The (1994)', 'Crime|Drama')\n",
      "Povp: 4.46 st. ocen 12 ('Tom Jones (1963)', 'Adventure|Comedy|Romance')\n",
      "Povp: 4.45 st. ocen 11 ('Gladiator (1992)', 'Action|Drama')\n",
      "Povp: 4.45 st. ocen 29 ('On the Waterfront (1954)', 'Crime|Drama')\n",
      "Povp: 4.44 st. ocen 16 ('When We Were Kings (1996)', 'Documentary')\n",
      "Povp: 4.43 st. ocen 38 ('All About Eve (1950)', 'Drama')\n",
      "Povp: 4.42 st. ocen 26 ('Ran (1985)', 'Drama|War')\n"
     ]
    }
   ],
   "source": [
    "# povprecja sortiramo po povprecnih ocenah\n",
    "sorted_povp3 = sorted(povprecja3, reverse=True)\n",
    "\n",
    "#najboljsi_st2 = sorted_povp2[-30:]\n",
    "najboljsi_st2 = sorted_povp3[:10]\n",
    "for movie in najboljsi_st2:\n",
    "    print(\"Povp:\", \"{:.2f}\".format(movie[0]), \"st. ocen\", movie[1], movies_data[movie[2]])"
   ]
  },
  {
   "cell_type": "code",
   "execution_count": 17,
   "metadata": {},
   "outputs": [
    {
     "data": {
      "image/png": "[encoded data removed]",
      "text/plain": [
       "<Figure size 720x432 with 1 Axes>"
      ]
     },
     "metadata": {
      "needs_background": "light"
     },
     "output_type": "display_data"
    }
   ],
   "source": [
    "# stevilo ocen na intervalih ocen\n",
    "\n",
    "n = 30 # stevilo intervalov med 0,5 in 5\n",
    "porazdelitev_ocen = []\n",
    "\n",
    "# povprecne ocene filmov razdelimo na intervale \n",
    "\n",
    "for interval in np.linspace(0.5,5,n):\n",
    "    porazdelitev_ocen.append(sum(movie[1] for movie in sorted_povp3 if ((interval + (5/n)) > movie[0] > interval))) \n",
    "            \n",
    "y = porazdelitev_ocen\n",
    "x = np.linspace(0.5,5,n)\n",
    "\n",
    "plt.figure(figsize = (10, 6))\n",
    "plt.bar(x, y)\n",
    "plt.title(\"Graf porazdelitve stevila ocen\")\n",
    "plt.xlabel('ocena')\n",
    "plt.ylabel('st. ocen')\n",
    "plt.xlim(0.5, 5)\n",
    "\n",
    "plt.show()"
   ]
  },
  {
   "cell_type": "markdown",
   "metadata": {},
   "source": [
    "Stevilo ocen smo razporedili na intervale od [0.5 do 5].\n",
    "\n",
    "Ugotovimo, da je najvec ocen (gledanost) pri filmih, ki so povprecno ocenjeni med 3 in 4 oceno."
   ]
  },
  {
   "cell_type": "markdown",
   "metadata": {
    "lang": "sl"
   },
   "source": [
    "#### 4. vprašanje (30%):\n",
    "Vsaka ocena je bila vnešena na določen datum (stolpec\n",
    "*timestamp*).  Ali se popularnost posameznih filmov s časom spreminja?\n",
    "Problem reši tako, da za dani film ocene razporediš po času ter v vsaku časovni\n",
    "točki izračunaš povprečje za zadnjih 30, 50, ali 100 ocen. Nariši graf, kako se\n",
    "ocena spreminja in ga prikaži za dva zanimiva primera filmov.\n",
    "\n",
    "Kodo lahko razdelite v več celic."
   ]
  },
  {
   "cell_type": "code",
   "execution_count": 18,
   "metadata": {},
   "outputs": [],
   "source": [
    "# kot primer bom poiskal 3 filme in jih med seboj primerjal\n",
    "# izbral sem naslendje filme (id): 34, 150, 165\n",
    "\n",
    "from datetime import datetime\n",
    "\n",
    "# izbor filmov, glede na stevilo ocen\n",
    "movies_data = defaultdict(int)\n",
    "for id_osebe, id_filma, xy, yx  in raiting_data:\n",
    "    movies_data[id_filma] += 1\n",
    "#movies_data"
   ]
  },
  {
   "cell_type": "code",
   "execution_count": 19,
   "metadata": {
    "scrolled": true
   },
   "outputs": [],
   "source": [
    "# funkcija nam vrne x (casovne intervale) in y (povprecen ocene)\n",
    "\n",
    "def povprecna_ocena (movie_n, st_ocen_interval):\n",
    "    \n",
    "    movie_time = []\n",
    "    # sestavimo tabelo ocen filma_x (datum, ocena)\n",
    "    for row in raiting_data:\n",
    "        if(row[1] == movie_n):\n",
    "            movie_time.append((row[3], row[2]))\n",
    "\n",
    "    # ocene sortiramo glede na datum        \n",
    "    movie_time = sorted(movie_time, reverse=True)\n",
    "    \n",
    "    # dolocimo zacetek in konec x osi (casovne tocke)\n",
    "    zacetek = movie_time[-1][0]\n",
    "    konec = movie_time[0][0]\n",
    "\n",
    "    \n",
    "    povp_ocene = []\n",
    "    interval_prej = 0\n",
    "    \n",
    "    # pripravimo casovne tocke glede na zacetek, konec in st_ocen na interval\n",
    "    for interval in np.linspace(zacetek, konec, int(len(movie_time) / st_ocen_interval)):\n",
    "        if(interval_prej != 0):\n",
    "            # za vsako inteval med casovnimi tockami izracunamo povprecnno oceno\n",
    "            povp_ocene.append(np.mean([ocena[1] for ocena in movie_time if interval >= (ocena[0]) > interval_prej]))\n",
    "        interval_prej = interval\n",
    "\n",
    "    y = povp_ocene\n",
    "    x = np.linspace(zacetek, konec, int(len(movie_time) / st_ocen_interval))\n",
    "    x = np.delete(x, 0)\n",
    "    \n",
    "    return x, y"
   ]
  },
  {
   "cell_type": "code",
   "execution_count": 20,
   "metadata": {},
   "outputs": [
    {
     "data": {
      "image/png": "[encoded data removed]",
      "text/plain": [
       "<Figure size 1080x288 with 2 Axes>"
      ]
     },
     "metadata": {
      "needs_background": "light"
     },
     "output_type": "display_data"
    }
   ],
   "source": [
    "#[34, 150, 165]\n",
    "sez_filmov = [34, 150, 165]\n",
    "\n",
    "fig, axes = plt.subplots(1, 2, figsize=(15,4))\n",
    "\n",
    "for film in sez_filmov:\n",
    "    x,y = povprecna_ocena(film, 20)\n",
    "    axes[0].plot(x, y, marker = 'o', label = film)\n",
    "    axes[1].plot(x, y, marker = 'o', label = film)\n",
    "\n",
    "axes[0].set_ylim(0,5, 5)\n",
    "axes[1].set_ylim(2.5, 4.5)\n",
    "\n",
    "axes[0].set_xticks(x)\n",
    "axes[0].set_xticklabels([datetime.fromtimestamp(x).strftime('%Y') for x in x])\n",
    "\n",
    "axes[1].set_xticks(x)\n",
    "axes[1].set_xticklabels([datetime.fromtimestamp(x).strftime('%Y') for x in x])\n",
    "\n",
    "\n",
    "axes[0].legend(title=\"Movie id\", loc=3)\n",
    "axes[1].legend(title=\"Movie id\", loc=3)\n",
    "\n",
    "axes[0].set_title(\"Ocena filmov s casom\")\n",
    "axes[1].set_title(\"Ocena filmov s casom - priblizano\")\n",
    "\n",
    "axes[0].set_xlabel(\"Casovna enota (leto)\")\n",
    "axes[0].set_ylabel(\"Ocena\")\n",
    "axes[1].set_xlabel(\"Casovna enota (leto)\")\n",
    "axes[1].set_ylabel(\"Ocena\")\n",
    "\n",
    "fig.tight_layout()\n",
    "plt.show()"
   ]
  },
  {
   "cell_type": "markdown",
   "metadata": {
    "lang": "sl"
   },
   "source": [
    "Odgovor: **zapišite utemeljitev odgovora**"
   ]
  },
  {
   "cell_type": "markdown",
   "metadata": {},
   "source": [
    "S funkcijo **povprecna_ocena** izracunamo povprecne ocene glede na casovne intervale.\n",
    "\n",
    "Nato za vsak cosovni interval na grafu pokazemo povprecje ocen na tem intervalu. \n",
    "\n",
    "Tako dobimo graf spreminjanja ocene na dolocenem casovnem intervalu."
   ]
  },
  {
   "cell_type": "markdown",
   "metadata": {},
   "source": [
    "Na grafu smo za 3 filme (za id: 34, 150, 165) izrisali spreminjanje ocene glede na casovni interval (stevilo ocen v tem casu).\n",
    "\n",
    "Opazimo, da pri film z id **150** popularnost ostaja priblizno enaka skozi leta.\n",
    "\n",
    "Pri filmu z id **34** opazimo, da zacne pri oceni ~ 3.85 in skozi leta ocena pada, na koncu pristane na ~ 2.8.\n",
    "\n",
    "Pri filmu z id **165** pa opazimo, da zacne pri ~ 3.55, skozi leta malo pada in proti kocu zraste na ~ 3.6 (vec kot na zacetku)."
   ]
  },
  {
   "cell_type": "markdown",
   "metadata": {
    "lang": "sl"
   },
   "source": [
    "#### 5. vprašanje (20%):\n",
    "Kako bi ocenili popularnost posameznih igralcev? Opišite postopek\n",
    "ocenitve ter izpišite 10 najbolj popularnih igralcev.\n",
    "\n",
    "Kodo lahko razdelite v več celic."
   ]
  },
  {
   "cell_type": "code",
   "execution_count": 21,
   "metadata": {
    "scrolled": true
   },
   "outputs": [
    {
     "name": "stdout",
     "output_type": "stream",
     "text": [
      "10 najbolj popularnih igralcev:\n",
      "(igralec - stevilo pojavitev)\n",
      "\n",
      "Robert De Niro - 66\n",
      "Michael Caine - 56\n",
      "Bruce Willis - 56\n",
      "Morgan Freeman - 54\n",
      "Christopher Walken - 51\n",
      "Richard Jenkins - 50\n",
      "Nicolas Cage - 50\n",
      "Steve Buscemi - 49\n",
      "John Goodman - 48\n",
      "Bill Murray - 47\n"
     ]
    }
   ],
   "source": [
    "# popularnost posameznih igralcev bom ocenil glede na stevilo pojavitev v razlicnih filmih\n",
    "# v vecih filmih kot je igralec nastopal, bolj popularen naj bi igralec bil \n",
    "# igralce bom dodal v slovar kot kljuc, kot vrednost pa bom stel vsako pojavitev v filmu\n",
    "\n",
    "igralci_cnt = defaultdict(int)\n",
    "\n",
    "reader = DictReader(open('podatki/ml-latest-small/cast.csv', 'rt', encoding='utf-8'))\n",
    "for row in reader:\n",
    "    for igralec in row[\"cast\"].split('|'):\n",
    "        igralci_cnt[igralec] += 1\n",
    "\n",
    "# podatke iz slovarja shranim v seznam (na zacetku stevilo pojavitev, da lahko seznam sortiramo)        \n",
    "cnt_igralci = ((cnt, igralec) for igralec, cnt in igralci_cnt.items())\n",
    "\n",
    "# seznam sortiramo po stevilo pojavitev\n",
    "cnt_igralci_sort = sorted(cnt_igralci, reverse=True)\n",
    "\n",
    "print(\"10 najbolj popularnih igralcev:\")\n",
    "print(\"(igralec - stevilo pojavitev)\")\n",
    "print()\n",
    "for i in range(1, 11):\n",
    "    print(cnt_igralci_sort[i][1], \"-\", cnt_igralci_sort[i][0])\n"
   ]
  },
  {
   "cell_type": "markdown",
   "metadata": {
    "lang": "sl"
   },
   "source": [
    "Odgovor: **zapišite utemeljitev odgovora**"
   ]
  },
  {
   "cell_type": "markdown",
   "metadata": {},
   "source": [
    "Popularnost posameznih igralcev sem ocenil glede na stevilo pojavitev v razlicnih filmih.\n",
    "\n",
    "V vecih filmih kot je igralec nastopal, bolj popularen naj bi igralec bil. \n",
    "\n",
    "Igralce sem dodal v slovar kot kljuc, kot vrednost pa sem stel vsako pojavitev v filmu. ( file - cast.csv)\n",
    "\n",
    "Ko sem zgradil slovar, sem podatke zapisal v seznam. \n",
    "Na 1. mesto sem dodal stevilo pojavitev igralca, da lahko seznam sortiram.\n",
    "\n",
    "Na koncu sem izpisal prvih 10 igralcev in stevilo njihovih pjavitev v filmih."
   ]
  },
  {
   "cell_type": "markdown",
   "metadata": {
    "lang": "sl"
   },
   "source": [
    "#### Bonus vprašanje (5%):\n",
    "\n",
    "Kateri je tvoj najljubši film? Zakaj?"
   ]
  },
  {
   "cell_type": "markdown",
   "metadata": {
    "lang": "sl"
   },
   "source": [
    "Odgovor: **zapišite utemeljitev odgovora**"
   ]
  },
  {
   "cell_type": "markdown",
   "metadata": {},
   "source": [
    "**Interstellar** - film mi je zelo zanimiv, ker se dogaja okoli potovanja skozi cas in dimenzije. Tezko si je prestavljati kako malo znanja o dogajanju in pojavih na ravni vesolja imamo. "
   ]
  },
  {
   "cell_type": "markdown",
   "metadata": {},
   "source": []
  },
  {
   "cell_type": "markdown",
   "metadata": {
    "lang": "sl"
   },
   "source": [
    "### Zapiski\n",
    "Za nalaganje podatkov lahko uporabite modul `csv`."
   ]
  },
  {
   "cell_type": "code",
   "execution_count": 22,
   "metadata": {},
   "outputs": [],
   "source": [
    "from csv import DictReader\n",
    "\n",
    "reader = DictReader(open('podatki/ml-latest-small/ratings.csv', 'rt', encoding='utf-8'))\n",
    "for row in reader:\n",
    "    user = row[\"userId\"]\n",
    "    movie = row[\"movieId\"]\n",
    "    rating = row[\"rating\"]\n",
    "    timestamp = row[\"timestamp\"]"
   ]
  },
  {
   "cell_type": "markdown",
   "metadata": {
    "lang": "sl"
   },
   "source": [
    "Podatki v zadnji vrstici datoteke:"
   ]
  },
  {
   "cell_type": "code",
   "execution_count": 23,
   "metadata": {},
   "outputs": [
    {
     "data": {
      "text/plain": [
       "('671', '6565', '3.5', '1074784724')"
      ]
     },
     "execution_count": 23,
     "metadata": {},
     "output_type": "execute_result"
    }
   ],
   "source": [
    "user, movie, rating, timestamp"
   ]
  },
  {
   "cell_type": "markdown",
   "metadata": {
    "lang": "sl"
   },
   "source": [
    "Pretvorba časovnega formata (*Unix time*). Kode za oblikovanje so navedene v dokumentaciji modula [`datetime`](https://docs.python.org/3/library/datetime.html#strftime-and-strptime-behavior)."
   ]
  },
  {
   "cell_type": "code",
   "execution_count": 24,
   "metadata": {},
   "outputs": [
    {
     "data": {
      "text/plain": [
       "'2008-08-05 02:56'"
      ]
     },
     "execution_count": 24,
     "metadata": {},
     "output_type": "execute_result"
    }
   ],
   "source": [
    "from datetime import datetime\n",
    "\n",
    "t = 1217897793 # Unix-time\n",
    "ts = datetime.fromtimestamp(t).strftime('%Y-%m-%d %H:%M')\n",
    "ts"
   ]
  }
 ],
 "metadata": {
  "kernelspec": {
   "display_name": "Python 3",
   "language": "python",
   "name": "python3"
  },
  "language_info": {
   "codemirror_mode": {
    "name": "ipython",
    "version": 3
   },
   "file_extension": ".py",
   "mimetype": "text/x-python",
   "name": "python",
   "nbconvert_exporter": "python",
   "pygments_lexer": "ipython3",
   "version": "3.8.1"
  },
  "latex_envs": {
   "LaTeX_envs_menu_present": true,
   "autocomplete": true,
   "bibliofile": "biblio.bib",
   "cite_by": "apalike",
   "current_citInitial": 1,
   "eqLabelWithNumbers": true,
   "eqNumInitial": 1,
   "hotkeys": {
    "equation": "Ctrl-E",
    "itemize": "Ctrl-I"
   },
   "labels_anchors": false,
   "latex_user_defs": false,
   "report_style_numbering": false,
   "user_envs_cfg": false
  },
  "nbTranslate": {
   "displayLangs": [
    "sl"
   ],
   "hotkey": "alt-t",
   "langInMainMenu": true,
   "sourceLang": "sl",
   "targetLang": "en",
   "useGoogleTranslate": true
  }
 },
 "nbformat": 4,
 "nbformat_minor": 2
}
