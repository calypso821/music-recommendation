{
 "cells": [
  {
   "cell_type": "markdown",
   "metadata": {},
   "source": [
    "## Playlist recommendation system\n",
    "1. Iskanje podobnih playlistov (KNN mean) - izberemo 3 njabolj podobne\n",
    "2. Izbira najbolj bliznjih/podobnih pesmi (KNN) - izberemo 2 pesmi iz vsakega playlista\n",
    "3. Predlagamo 6 najbolj podobnih pesmi (3 PL * 2 pesmi)\n",
    "\n",
    "Playliste si lahko predstavljamo kot uporabnike, najprej izmed vseh uporabnikov izberemo najbolj podobne, in nato iz vsakega vzamemo po 2 najbolj podbni pesmi in jih predlagamo uporabniku."
   ]
  },
  {
   "cell_type": "code",
   "execution_count": 1,
   "metadata": {},
   "outputs": [],
   "source": [
    "import pandas as pd\n",
    "from sklearn.neighbors import NearestNeighbors"
   ]
  },
  {
   "cell_type": "code",
   "execution_count": 2,
   "metadata": {},
   "outputs": [],
   "source": [
    "def playlist(df_pl):\n",
    "    # df_pl.drop_duplicates(subset=['id'], inplace=True)\n",
    "    # df_pl.set_index(\"id\", inplace=True)\n",
    "\n",
    "    df_audio = df_pl.loc[:, ['danceability', 'energy', 'loudness', \n",
    "                      'speechiness', 'acousticness', 'instrumentalness',\n",
    "                       'liveness', 'valence', 'tempo', 'duration_ms']]\n",
    "    \n",
    "    return df_audio, df_pl"
   ]
  },
  {
   "cell_type": "code",
   "execution_count": 3,
   "metadata": {},
   "outputs": [],
   "source": [
    "def playlists(path):\n",
    "    pls = []\n",
    "    df = pd.read_csv(path, index_col=0)\n",
    "    i = 0\n",
    "    df_pl = pd.DataFrame(df.loc[df['playlist'] == i])\n",
    "    while df_pl.shape[0] > 0:\n",
    "        pls.append(df_pl)\n",
    "        i += 1\n",
    "        df_pl = pd.DataFrame(df.loc[df['playlist'] == i])\n",
    "    \n",
    "    tab_audio = []\n",
    "    tab_df = []\n",
    "    \n",
    "    for pl in pls:\n",
    "        df_audio, df_pl = playlist(pl)\n",
    "        tab_audio.append(df_audio)\n",
    "        tab_df.append(df_pl)\n",
    "         \n",
    "    return [tab_df, tab_audio]"
   ]
  },
  {
   "cell_type": "code",
   "execution_count": 4,
   "metadata": {},
   "outputs": [],
   "source": [
    " # PLAYLISTS\n",
    "    # 0,1,2,3 - classical\n",
    "    # 4,5,6,7 - rap\n",
    "    # 8,9 - edm\n",
    "    # 10 - techno\n",
    "    # 11 - House\n",
    "    # 12,13,14,15 - rock\n",
    "    # 16,17,18,19 - latin\n",
    "    # 20,21,22,23 - pop"
   ]
  },
  {
   "cell_type": "code",
   "execution_count": 5,
   "metadata": {},
   "outputs": [],
   "source": [
    "tab_df_pl = playlists('Data\\Playlist\\Playlists5.csv')\n",
    "tab_df = tab_df_pl[0]\n",
    "audio_df = tab_df_pl[1]"
   ]
  },
  {
   "cell_type": "code",
   "execution_count": 6,
   "metadata": {},
   "outputs": [
    {
     "data": {
      "text/plain": [
       "24"
      ]
     },
     "execution_count": 6,
     "metadata": {},
     "output_type": "execute_result"
    }
   ],
   "source": [
    "len(tab_df_pl[0])"
   ]
  },
  {
   "cell_type": "code",
   "execution_count": 7,
   "metadata": {},
   "outputs": [
    {
     "data": {
      "text/html": [
       "<div>\n",
       "<style scoped>\n",
       "    .dataframe tbody tr th:only-of-type {\n",
       "        vertical-align: middle;\n",
       "    }\n",
       "\n",
       "    .dataframe tbody tr th {\n",
       "        vertical-align: top;\n",
       "    }\n",
       "\n",
       "    .dataframe thead th {\n",
       "        text-align: right;\n",
       "    }\n",
       "</style>\n",
       "<table border=\"1\" class=\"dataframe\">\n",
       "  <thead>\n",
       "    <tr style=\"text-align: right;\">\n",
       "      <th></th>\n",
       "      <th>duration_ms</th>\n",
       "      <th>tempo</th>\n",
       "      <th>loudness</th>\n",
       "      <th>name</th>\n",
       "      <th>artist_id</th>\n",
       "      <th>artist</th>\n",
       "      <th>album_id</th>\n",
       "      <th>album</th>\n",
       "      <th>popularity</th>\n",
       "      <th>playlist</th>\n",
       "      <th>danceability</th>\n",
       "      <th>energy</th>\n",
       "      <th>key</th>\n",
       "      <th>mode</th>\n",
       "      <th>speechiness</th>\n",
       "      <th>acousticness</th>\n",
       "      <th>instrumentalness</th>\n",
       "      <th>liveness</th>\n",
       "      <th>valence</th>\n",
       "      <th>time_signature</th>\n",
       "    </tr>\n",
       "    <tr>\n",
       "      <th>id</th>\n",
       "      <th></th>\n",
       "      <th></th>\n",
       "      <th></th>\n",
       "      <th></th>\n",
       "      <th></th>\n",
       "      <th></th>\n",
       "      <th></th>\n",
       "      <th></th>\n",
       "      <th></th>\n",
       "      <th></th>\n",
       "      <th></th>\n",
       "      <th></th>\n",
       "      <th></th>\n",
       "      <th></th>\n",
       "      <th></th>\n",
       "      <th></th>\n",
       "      <th></th>\n",
       "      <th></th>\n",
       "      <th></th>\n",
       "      <th></th>\n",
       "    </tr>\n",
       "  </thead>\n",
       "  <tbody>\n",
       "    <tr>\n",
       "      <th>17i5jLpzndlQhbS4SrTd0B</th>\n",
       "      <td>0.081501</td>\n",
       "      <td>0.343939</td>\n",
       "      <td>0.578072</td>\n",
       "      <td>Cello Suite No. 1 in G Major, BWV 1007: I. Pré...</td>\n",
       "      <td>5aIqB5nVVvmFsvSdExz408</td>\n",
       "      <td>Johann Sebastian Bach</td>\n",
       "      <td>3cvjMNWg7t46NyDZzujfNg</td>\n",
       "      <td>Bach: Cello Suites Nos. 1, 5 &amp; 6</td>\n",
       "      <td>65</td>\n",
       "      <td>0</td>\n",
       "      <td>0.275</td>\n",
       "      <td>0.157</td>\n",
       "      <td>7</td>\n",
       "      <td>1</td>\n",
       "      <td>0.0636</td>\n",
       "      <td>0.89</td>\n",
       "      <td>0.842</td>\n",
       "      <td>0.186</td>\n",
       "      <td>0.304</td>\n",
       "      <td>4</td>\n",
       "    </tr>\n",
       "  </tbody>\n",
       "</table>\n",
       "</div>"
      ],
      "text/plain": [
       "                        duration_ms     tempo  loudness  \\\n",
       "id                                                        \n",
       "17i5jLpzndlQhbS4SrTd0B     0.081501  0.343939  0.578072   \n",
       "\n",
       "                                                                     name  \\\n",
       "id                                                                          \n",
       "17i5jLpzndlQhbS4SrTd0B  Cello Suite No. 1 in G Major, BWV 1007: I. Pré...   \n",
       "\n",
       "                                     artist_id                 artist  \\\n",
       "id                                                                      \n",
       "17i5jLpzndlQhbS4SrTd0B  5aIqB5nVVvmFsvSdExz408  Johann Sebastian Bach   \n",
       "\n",
       "                                      album_id  \\\n",
       "id                                               \n",
       "17i5jLpzndlQhbS4SrTd0B  3cvjMNWg7t46NyDZzujfNg   \n",
       "\n",
       "                                                   album  popularity  \\\n",
       "id                                                                     \n",
       "17i5jLpzndlQhbS4SrTd0B  Bach: Cello Suites Nos. 1, 5 & 6          65   \n",
       "\n",
       "                        playlist  danceability  energy  key  mode  \\\n",
       "id                                                                  \n",
       "17i5jLpzndlQhbS4SrTd0B         0         0.275   0.157    7     1   \n",
       "\n",
       "                        speechiness  acousticness  instrumentalness  liveness  \\\n",
       "id                                                                              \n",
       "17i5jLpzndlQhbS4SrTd0B       0.0636          0.89             0.842     0.186   \n",
       "\n",
       "                        valence  time_signature  \n",
       "id                                               \n",
       "17i5jLpzndlQhbS4SrTd0B    0.304               4  "
      ]
     },
     "execution_count": 7,
     "metadata": {},
     "output_type": "execute_result"
    }
   ],
   "source": [
    "tab_df[0].head(1)"
   ]
  },
  {
   "cell_type": "code",
   "execution_count": 8,
   "metadata": {},
   "outputs": [
    {
     "data": {
      "text/html": [
       "<div>\n",
       "<style scoped>\n",
       "    .dataframe tbody tr th:only-of-type {\n",
       "        vertical-align: middle;\n",
       "    }\n",
       "\n",
       "    .dataframe tbody tr th {\n",
       "        vertical-align: top;\n",
       "    }\n",
       "\n",
       "    .dataframe thead th {\n",
       "        text-align: right;\n",
       "    }\n",
       "</style>\n",
       "<table border=\"1\" class=\"dataframe\">\n",
       "  <thead>\n",
       "    <tr style=\"text-align: right;\">\n",
       "      <th></th>\n",
       "      <th>danceability</th>\n",
       "      <th>energy</th>\n",
       "      <th>loudness</th>\n",
       "      <th>speechiness</th>\n",
       "      <th>acousticness</th>\n",
       "      <th>instrumentalness</th>\n",
       "      <th>liveness</th>\n",
       "      <th>valence</th>\n",
       "      <th>tempo</th>\n",
       "      <th>duration_ms</th>\n",
       "    </tr>\n",
       "    <tr>\n",
       "      <th>id</th>\n",
       "      <th></th>\n",
       "      <th></th>\n",
       "      <th></th>\n",
       "      <th></th>\n",
       "      <th></th>\n",
       "      <th></th>\n",
       "      <th></th>\n",
       "      <th></th>\n",
       "      <th></th>\n",
       "      <th></th>\n",
       "    </tr>\n",
       "  </thead>\n",
       "  <tbody>\n",
       "    <tr>\n",
       "      <th>17i5jLpzndlQhbS4SrTd0B</th>\n",
       "      <td>0.2750</td>\n",
       "      <td>0.1570</td>\n",
       "      <td>0.578072</td>\n",
       "      <td>0.0636</td>\n",
       "      <td>0.890</td>\n",
       "      <td>0.842</td>\n",
       "      <td>0.186</td>\n",
       "      <td>0.3040</td>\n",
       "      <td>0.343939</td>\n",
       "      <td>0.081501</td>\n",
       "    </tr>\n",
       "    <tr>\n",
       "      <th>4SFBV7SRNG2e2kyL1F6kjU</th>\n",
       "      <td>0.2210</td>\n",
       "      <td>0.1260</td>\n",
       "      <td>0.423640</td>\n",
       "      <td>0.0447</td>\n",
       "      <td>0.989</td>\n",
       "      <td>0.897</td>\n",
       "      <td>0.102</td>\n",
       "      <td>0.2160</td>\n",
       "      <td>0.627115</td>\n",
       "      <td>0.070859</td>\n",
       "    </tr>\n",
       "    <tr>\n",
       "      <th>3zLTPuucd3e6TxZnu2dlVS</th>\n",
       "      <td>0.2890</td>\n",
       "      <td>0.0306</td>\n",
       "      <td>0.299563</td>\n",
       "      <td>0.0446</td>\n",
       "      <td>0.987</td>\n",
       "      <td>0.911</td>\n",
       "      <td>0.102</td>\n",
       "      <td>0.1180</td>\n",
       "      <td>0.589478</td>\n",
       "      <td>0.130546</td>\n",
       "    </tr>\n",
       "    <tr>\n",
       "      <th>7h6GoPvGHC9uzZJ8bNvfIq</th>\n",
       "      <td>0.0753</td>\n",
       "      <td>0.0700</td>\n",
       "      <td>0.380955</td>\n",
       "      <td>0.0440</td>\n",
       "      <td>0.918</td>\n",
       "      <td>0.947</td>\n",
       "      <td>0.146</td>\n",
       "      <td>0.0625</td>\n",
       "      <td>0.374500</td>\n",
       "      <td>0.256123</td>\n",
       "    </tr>\n",
       "    <tr>\n",
       "      <th>5x3TUfYzgZIdt0Kaop64ss</th>\n",
       "      <td>0.1300</td>\n",
       "      <td>0.1580</td>\n",
       "      <td>0.638688</td>\n",
       "      <td>0.0350</td>\n",
       "      <td>0.748</td>\n",
       "      <td>0.924</td>\n",
       "      <td>0.100</td>\n",
       "      <td>0.0998</td>\n",
       "      <td>0.399044</td>\n",
       "      <td>0.204397</td>\n",
       "    </tr>\n",
       "  </tbody>\n",
       "</table>\n",
       "</div>"
      ],
      "text/plain": [
       "                        danceability  energy  loudness  speechiness  \\\n",
       "id                                                                    \n",
       "17i5jLpzndlQhbS4SrTd0B        0.2750  0.1570  0.578072       0.0636   \n",
       "4SFBV7SRNG2e2kyL1F6kjU        0.2210  0.1260  0.423640       0.0447   \n",
       "3zLTPuucd3e6TxZnu2dlVS        0.2890  0.0306  0.299563       0.0446   \n",
       "7h6GoPvGHC9uzZJ8bNvfIq        0.0753  0.0700  0.380955       0.0440   \n",
       "5x3TUfYzgZIdt0Kaop64ss        0.1300  0.1580  0.638688       0.0350   \n",
       "\n",
       "                        acousticness  instrumentalness  liveness  valence  \\\n",
       "id                                                                          \n",
       "17i5jLpzndlQhbS4SrTd0B         0.890             0.842     0.186   0.3040   \n",
       "4SFBV7SRNG2e2kyL1F6kjU         0.989             0.897     0.102   0.2160   \n",
       "3zLTPuucd3e6TxZnu2dlVS         0.987             0.911     0.102   0.1180   \n",
       "7h6GoPvGHC9uzZJ8bNvfIq         0.918             0.947     0.146   0.0625   \n",
       "5x3TUfYzgZIdt0Kaop64ss         0.748             0.924     0.100   0.0998   \n",
       "\n",
       "                           tempo  duration_ms  \n",
       "id                                             \n",
       "17i5jLpzndlQhbS4SrTd0B  0.343939     0.081501  \n",
       "4SFBV7SRNG2e2kyL1F6kjU  0.627115     0.070859  \n",
       "3zLTPuucd3e6TxZnu2dlVS  0.589478     0.130546  \n",
       "7h6GoPvGHC9uzZJ8bNvfIq  0.374500     0.256123  \n",
       "5x3TUfYzgZIdt0Kaop64ss  0.399044     0.204397  "
      ]
     },
     "execution_count": 8,
     "metadata": {},
     "output_type": "execute_result"
    }
   ],
   "source": [
    "audio_df[0].head(5)"
   ]
  },
  {
   "cell_type": "code",
   "execution_count": 9,
   "metadata": {},
   "outputs": [],
   "source": [
    "def playlist_similar(pl, tab_df_pl):\n",
    "    pl = tab_df_pl[1][pl]\n",
    "    tab_audio = tab_df_pl[1]\n",
    "    tab_distances = []\n",
    "    for index, nbr in enumerate(tab_audio):\n",
    "        nbrs = NearestNeighbors(n_neighbors=1).fit(pl)\n",
    "        distances, indices = nbrs.kneighbors(nbr)\n",
    "        tab_distances.append((distances.mean(), index))\n",
    "        \n",
    "    return tab_distances"
   ]
  },
  {
   "cell_type": "markdown",
   "metadata": {},
   "source": [
    "S funkcijo 'playlist_similar' poiscemo playliste, ki so najbolj podobni playlist, za katero napovedujemo nove pesmi. \n",
    "\n",
    "S KNN metodo poiscemo najbloj podobne sosede nekega playlista in povprecimo njihove razdalje. Tako dibimo povprecno razdaljo (podobnost) do nekega playlista. To moramo preveriti za vse playliste, ki jih imamo."
   ]
  },
  {
   "cell_type": "code",
   "execution_count": 10,
   "metadata": {},
   "outputs": [],
   "source": [
    "pl = 0\n",
    "distances = playlist_similar(pl, tab_df_pl)"
   ]
  },
  {
   "cell_type": "markdown",
   "metadata": {},
   "source": [
    "Za playlist 0 poiscemo najbolj podobne sosede (metoda KNN - najbliznji sosedje, razvrstimo po povprecni razdalji). Na koncu izberemo prve 3."
   ]
  },
  {
   "cell_type": "code",
   "execution_count": 11,
   "metadata": {},
   "outputs": [],
   "source": [
    " # PLAYLISTS\n",
    "    # 0,1,2,3 - classical\n",
    "    # 4,5,6,7 - rap\n",
    "    # 8,9 - edm\n",
    "    # 10 - techno\n",
    "    # 11 - House\n",
    "    # 12,13,14,15 - rock\n",
    "    # 16,17,18,19 - latin\n",
    "    # 20,21,22,23 - pop"
   ]
  },
  {
   "cell_type": "code",
   "execution_count": 12,
   "metadata": {
    "scrolled": true
   },
   "outputs": [
    {
     "name": "stdout",
     "output_type": "stream",
     "text": [
      "Playlist 0\n",
      "\n",
      "Najbolj podobni playlist:\n",
      "Playlist: 2 (razdalja 0.17)\n",
      "Playlist: 1 (razdalja 0.21)\n",
      "Playlist: 3 (razdalja 0.24)\n"
     ]
    }
   ],
   "source": [
    "# 3 najbljznji sosedni playlisti\n",
    "print(\"Playlist 0\")\n",
    "print()\n",
    "print(\"Najbolj podobni playlist:\")\n",
    "for x in sorted(distances)[1:4]:\n",
    "    if(x[0] < 1):\n",
    "        print(\"Playlist: %d (razdalja %.2f)\" % (x[1], x[0]))"
   ]
  },
  {
   "cell_type": "markdown",
   "metadata": {},
   "source": [
    "Ugotovimo, da je playlist 0 najbolj podoben playlistu 1,2,3."
   ]
  },
  {
   "cell_type": "code",
   "execution_count": 13,
   "metadata": {},
   "outputs": [],
   "source": [
    "index1 = sorted(distances)[1][1]\n",
    "df = audio_df[index1]\n",
    "df1 = tab_df[index1]"
   ]
  },
  {
   "cell_type": "code",
   "execution_count": 14,
   "metadata": {},
   "outputs": [
    {
     "name": "stdout",
     "output_type": "stream",
     "text": [
      "(147, 10)\n",
      "(137, 10)\n"
     ]
    }
   ],
   "source": [
    "print(tab_df_pl[1][0].shape) # playlist\n",
    "print(df.shape) # 1st similar"
   ]
  },
  {
   "cell_type": "code",
   "execution_count": 15,
   "metadata": {},
   "outputs": [],
   "source": [
    "nbrs = NearestNeighbors(n_neighbors=10).fit(tab_df_pl[1][0])\n",
    "distances, indices = nbrs.kneighbors(df)\n",
    "tab = []\n",
    "for index, dist in enumerate(distances):\n",
    "    tab.append((dist.mean(), index))"
   ]
  },
  {
   "cell_type": "code",
   "execution_count": 16,
   "metadata": {},
   "outputs": [
    {
     "data": {
      "text/plain": [
       "137"
      ]
     },
     "execution_count": 16,
     "metadata": {},
     "output_type": "execute_result"
    }
   ],
   "source": [
    "len(tab)"
   ]
  },
  {
   "cell_type": "code",
   "execution_count": 17,
   "metadata": {},
   "outputs": [
    {
     "name": "stdout",
     "output_type": "stream",
     "text": [
      "Razdalja, vrstica playlista\n"
     ]
    },
    {
     "data": {
      "text/plain": [
       "[(0.13690205679960055, 13), (0.1410022734885636, 9), (0.14873970007278992, 29)]"
      ]
     },
     "execution_count": 17,
     "metadata": {},
     "output_type": "execute_result"
    }
   ],
   "source": [
    "print(\"Razdalja, vrstica playlista\")\n",
    "sorted(tab)[:3] # 3 najbolj podobne pesmi (po razdalji)"
   ]
  },
  {
   "cell_type": "code",
   "execution_count": 18,
   "metadata": {
    "scrolled": true
   },
   "outputs": [
    {
     "name": "stdout",
     "output_type": "stream",
     "text": [
      "Ave Maria, S. 558 (after Schubert, D. 839)\n",
      "Nocturne No.1 In B Flat Minor, Op.9 No.1\n",
      "Pavane, Op.50\n"
     ]
    }
   ],
   "source": [
    "for row in sorted(tab)[:3]:\n",
    "    print(df1.iloc[row[1]]['name'])"
   ]
  },
  {
   "cell_type": "markdown",
   "metadata": {},
   "source": [
    "S funkcijo 'playlist_recommendation' napovedujemo pesmi, ki menimo, da bi jih uporabnik nekega playlista poslusal. \n",
    "Napovedane pesmi so podobne pesmim iz playlista uporabnika, in so izvzete iz playlistov drugih uporabnikov (sorodnih).\n",
    "\n",
    "Naprej poiscemo 3 najbolj podobne (sorodne) playliste, nato izberemo iz vsakega od teh playlistov 2 nabolj primerni pesmi za napoved."
   ]
  },
  {
   "cell_type": "code",
   "execution_count": 19,
   "metadata": {},
   "outputs": [],
   "source": [
    "def playlist_recommendation(pl_n, tab_df_pl):\n",
    "    distances = playlist_similar(pl_n, tab_df_pl)\n",
    "    pl = tab_df_pl[1][pl_n]\n",
    "    print(\"Recommending for playlist num: %d (len: %d)\" % (pl_n, pl.shape[0])) # playlist\n",
    "    rec_songs = []\n",
    "    \n",
    "    # 3 najbljznji sosedni playlisti\n",
    "    print(\"3 najbolj podobni playlisti:\")\n",
    "    for x in sorted(distances)[1:4]:\n",
    "        if(x[0] < 1):\n",
    "            index1 = x[1]\n",
    "            df_audio = tab_df_pl[1][index1]\n",
    "            df = tab_df_pl[0][index1]\n",
    "            print('n%d: %.3f (len: %d)' % (x[1], x[0], df.shape[0]))\n",
    "            \n",
    "            # df_audio - najblolj podobni (similar) playlisti\n",
    "            # pl - playlist, za katerega napovedujemo pesmi \n",
    "            \n",
    "            # za vsako pesem iz podobnega playlista (df_audio), poiscemo 10 najbliznjih (podobnih) pesmi v playlistu -  pl\n",
    "            # izracunamo povprecno razdaljo (manjsa je razdalja bolj je pesem podobna pesmim na playlistu - pl)\n",
    "            # izberemo 3 najbolj podobne pesmi\n",
    "            nbrs = NearestNeighbors(n_neighbors=10).fit(pl)\n",
    "            distances1, indices = nbrs.kneighbors(df_audio)\n",
    "            tab = []\n",
    "            for index, dist in enumerate(distances1):\n",
    "                tab.append((dist.mean(), index))\n",
    "                \n",
    "            # 2 najbolj podobne pesmi (po razdalji)\n",
    "            for row in sorted(tab)[:2]:\n",
    "                rec_songs.append(df.iloc[row[1]])\n",
    "                #print(df.iloc[row[1]]['name'])\n",
    "                \n",
    "    return rec_songs"
   ]
  },
  {
   "cell_type": "code",
   "execution_count": 20,
   "metadata": {},
   "outputs": [],
   "source": [
    " # PLAYLISTS\n",
    "    # 0,1,2,3 - classical\n",
    "    # 4,5,6,7 - rap\n",
    "    # 8,9 - edm\n",
    "    # 10 - techno\n",
    "    # 11 - House\n",
    "    # 12,13,14,15 - rock\n",
    "    # 16,17,18,19 - latin\n",
    "    # 20,21,22,23 - pop"
   ]
  },
  {
   "cell_type": "code",
   "execution_count": 21,
   "metadata": {
    "scrolled": true
   },
   "outputs": [
    {
     "name": "stdout",
     "output_type": "stream",
     "text": [
      "Recommending for playlist num: 18 (len: 85)\n",
      "3 najbolj podobni playlisti:\n",
      "n19: 0.184 (len: 79)\n",
      "n16: 0.213 (len: 100)\n",
      "n17: 0.224 (len: 50)\n"
     ]
    }
   ],
   "source": [
    "pl = 18\n",
    "rec_songs = playlist_recommendation(pl, tab_df_pl)"
   ]
  },
  {
   "cell_type": "code",
   "execution_count": 22,
   "metadata": {},
   "outputs": [
    {
     "name": "stdout",
     "output_type": "stream",
     "text": [
      "Recommended songs for playlist:  18 \n",
      "\n",
      "Name:  Caraluna || Artist:  Bacilos\n",
      "Name:  Mi primer millon || Artist:  Bacilos\n",
      "Name:  Ley Seca || Artist:  Jhay Cortez\n",
      "Name:  Me Enamora || Artist:  Mau y Ricky\n",
      "Name:  MAMIII || Artist:  Becky G\n",
      "Name:  X ÚLTIMA VEZ || Artist:  Daddy Yankee\n"
     ]
    }
   ],
   "source": [
    "print(\"Recommended songs for playlist: \", pl, '\\n')\n",
    "\n",
    "for song in rec_songs:\n",
    "    print(\"Name: \", song['name'], \"|| Artist: \", song['artist'])"
   ]
  },
  {
   "cell_type": "markdown",
   "metadata": {},
   "source": [
    "UGOTOVITVE: \n",
    "\n",
    "Sistem napovedovanja pesmi deluje vredu na izbranih playlistah (24).\n",
    "\n",
    "Za klasicno playlisto napove klasicne pesmi, za playlisto, kjer je veliko rapa napove rap pesmi...\n",
    "\n",
    "Playliste si lahko predstavljamo kot uporabnike, najprej izmed vseh uporabnikov izberemo najbolj podobne, in nato iz vsakega vzamemo po 2 najbolj podbni pesmi in jih predlagamo uporabniku.\n",
    "\n",
    "Sistem zgleda da deluje vredu, uporabniku, ki poslusa rap napove pesmi rapa... Seveda pa je izbira pesmi uporabnika se vedno subjektivna, in na njegovo izbira vpliva vec kot pa le 10 znacilnosti pesmi. "
   ]
  }
 ],
 "metadata": {
  "kernelspec": {
   "display_name": "Python 3 (ipykernel)",
   "language": "python",
   "name": "python3"
  },
  "language_info": {
   "codemirror_mode": {
    "name": "ipython",
    "version": 3
   },
   "file_extension": ".py",
   "mimetype": "text/x-python",
   "name": "python",
   "nbconvert_exporter": "python",
   "pygments_lexer": "ipython3",
   "version": "3.7.3"
  },
  "latex_envs": {
   "LaTeX_envs_menu_present": true,
   "autoclose": false,
   "autocomplete": true,
   "bibliofile": "biblio.bib",
   "cite_by": "apalike",
   "current_citInitial": 1,
   "eqLabelWithNumbers": true,
   "eqNumInitial": 1,
   "hotkeys": {
    "equation": "Ctrl-E",
    "itemize": "Ctrl-I"
   },
   "labels_anchors": false,
   "latex_user_defs": false,
   "report_style_numbering": false,
   "user_envs_cfg": false
  },
  "nbTranslate": {
   "displayLangs": [
    "*"
   ],
   "hotkey": "alt-t",
   "langInMainMenu": true,
   "sourceLang": "en",
   "targetLang": "fr",
   "useGoogleTranslate": true
  }
 },
 "nbformat": 4,
 "nbformat_minor": 4
}
