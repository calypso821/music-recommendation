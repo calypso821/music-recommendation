{
 "cells": [
  {
   "cell_type": "markdown",
   "metadata": {},
   "source": [
    "## Odstranitev osamelcev in normalizacija atributov"
   ]
  },
  {
   "cell_type": "code",
   "execution_count": 117,
   "metadata": {},
   "outputs": [],
   "source": [
    "import pandas as pd"
   ]
  },
  {
   "cell_type": "code",
   "execution_count": 118,
   "metadata": {},
   "outputs": [],
   "source": [
    "df_tracks = pd.read_csv('Data\\Playlist\\Playlists.csv', index_col=0)\n",
    "df_tracks.drop_duplicates(subset=['id'], inplace=True)\n",
    "df_tracks.set_index(\"id\", inplace=True)"
   ]
  },
  {
   "cell_type": "code",
   "execution_count": 119,
   "metadata": {},
   "outputs": [
    {
     "data": {
      "text/plain": [
       "(2011, 20)"
      ]
     },
     "execution_count": 119,
     "metadata": {},
     "output_type": "execute_result"
    }
   ],
   "source": [
    "df_tracks.shape"
   ]
  },
  {
   "cell_type": "code",
   "execution_count": 120,
   "metadata": {},
   "outputs": [],
   "source": [
    "genres = ['pop', 'rock', 'rap', 'edm', 'latin', 'classical']"
   ]
  },
  {
   "cell_type": "code",
   "execution_count": 121,
   "metadata": {},
   "outputs": [],
   "source": [
    "att = ['speechiness', 'danceability', 'energy', \n",
    "        'valence', 'acousticness', 'liveness',\n",
    "        'instrumentalness', 'tempo', 'loudness',\n",
    "        'duration_ms']"
   ]
  },
  {
   "cell_type": "code",
   "execution_count": 122,
   "metadata": {},
   "outputs": [
    {
     "name": "stdout",
     "output_type": "stream",
     "text": [
      "duration_ms\n"
     ]
    }
   ],
   "source": [
    "print(att[9])"
   ]
  },
  {
   "cell_type": "code",
   "execution_count": 123,
   "metadata": {},
   "outputs": [],
   "source": [
    "def remove_outliers_df(att, df_base):\n",
    "    df = df_base[att]\n",
    "    \n",
    "    df = remove_outliers(df)\n",
    "    \n",
    "    new_df = df_base.drop(att, axis=1)\n",
    "    new_df = pd.merge(df, new_df, on='id', how='inner')\n",
    "    \n",
    "    return new_df\n",
    "\n",
    "def remove_outliers(df):\n",
    "    Q1 = df.quantile(0.25)\n",
    "    Q3 = df.quantile(0.75)\n",
    "    IQR = Q3 - Q1    #IQR is interquartile range. \n",
    "\n",
    "    filter = (df >= Q1 - 10 * IQR) & (df <= Q3 + 10 *IQR)\n",
    "    return df.loc[filter]  "
   ]
  },
  {
   "cell_type": "markdown",
   "metadata": {},
   "source": [
    "Nastavimo normalno mejo za cas trajnja pesmi, kar je izven meje (vec kot 20 min in mknj kot 50s) odstranimo"
   ]
  },
  {
   "cell_type": "code",
   "execution_count": 176,
   "metadata": {},
   "outputs": [],
   "source": [
    "new_df = df_tracks[df_tracks['duration_ms'] > 52800]  \n",
    "new_df = new_df[new_df['duration_ms'] < 1280000]  "
   ]
  },
  {
   "cell_type": "code",
   "execution_count": 177,
   "metadata": {},
   "outputs": [
    {
     "name": "stdout",
     "output_type": "stream",
     "text": [
      "2\n"
     ]
    }
   ],
   "source": [
    "print(df_tracks.shape[0] - new_df.shape[0])"
   ]
  },
  {
   "cell_type": "code",
   "execution_count": 178,
   "metadata": {},
   "outputs": [
    {
     "data": {
      "text/plain": [
       "52929"
      ]
     },
     "execution_count": 178,
     "metadata": {},
     "output_type": "execute_result"
    }
   ],
   "source": [
    "new_df['duration_ms'].min()"
   ]
  },
  {
   "cell_type": "code",
   "execution_count": 179,
   "metadata": {},
   "outputs": [
    {
     "data": {
      "text/plain": [
       "1271947"
      ]
     },
     "execution_count": 179,
     "metadata": {},
     "output_type": "execute_result"
    }
   ],
   "source": [
    "new_df['duration_ms'].max()"
   ]
  },
  {
   "cell_type": "code",
   "execution_count": 180,
   "metadata": {},
   "outputs": [],
   "source": [
    "def normalize(att, df):\n",
    "    # normaliziramo vrednosti \n",
    "    normalized_df=(df[att]-df[att].min())/(df[att].max()-df[att].min())\n",
    "    new_df = df.drop(att, axis=1)\n",
    "    new_df = pd.merge(normalized_df, new_df, on='id', how='inner')\n",
    "    return new_df"
   ]
  },
  {
   "cell_type": "code",
   "execution_count": 181,
   "metadata": {},
   "outputs": [],
   "source": [
    "new_df['loudness'] = new_df['loudness'] + 60\n",
    "new_df = normalize('loudness', new_df)\n",
    "new_df = normalize('tempo', new_df)\n",
    "new_df = normalize('duration_ms', new_df)"
   ]
  },
  {
   "cell_type": "code",
   "execution_count": 182,
   "metadata": {},
   "outputs": [
    {
     "data": {
      "text/html": [
       "<div>\n",
       "<style scoped>\n",
       "    .dataframe tbody tr th:only-of-type {\n",
       "        vertical-align: middle;\n",
       "    }\n",
       "\n",
       "    .dataframe tbody tr th {\n",
       "        vertical-align: top;\n",
       "    }\n",
       "\n",
       "    .dataframe thead th {\n",
       "        text-align: right;\n",
       "    }\n",
       "</style>\n",
       "<table border=\"1\" class=\"dataframe\">\n",
       "  <thead>\n",
       "    <tr style=\"text-align: right;\">\n",
       "      <th></th>\n",
       "      <th>duration_ms</th>\n",
       "      <th>tempo</th>\n",
       "      <th>loudness</th>\n",
       "      <th>name</th>\n",
       "      <th>artist_id</th>\n",
       "      <th>artist</th>\n",
       "      <th>album_id</th>\n",
       "      <th>album</th>\n",
       "      <th>popularity</th>\n",
       "      <th>playlist</th>\n",
       "      <th>danceability</th>\n",
       "      <th>energy</th>\n",
       "      <th>key</th>\n",
       "      <th>mode</th>\n",
       "      <th>speechiness</th>\n",
       "      <th>acousticness</th>\n",
       "      <th>instrumentalness</th>\n",
       "      <th>liveness</th>\n",
       "      <th>valence</th>\n",
       "      <th>time_signature</th>\n",
       "    </tr>\n",
       "    <tr>\n",
       "      <th>id</th>\n",
       "      <th></th>\n",
       "      <th></th>\n",
       "      <th></th>\n",
       "      <th></th>\n",
       "      <th></th>\n",
       "      <th></th>\n",
       "      <th></th>\n",
       "      <th></th>\n",
       "      <th></th>\n",
       "      <th></th>\n",
       "      <th></th>\n",
       "      <th></th>\n",
       "      <th></th>\n",
       "      <th></th>\n",
       "      <th></th>\n",
       "      <th></th>\n",
       "      <th></th>\n",
       "      <th></th>\n",
       "      <th></th>\n",
       "      <th></th>\n",
       "    </tr>\n",
       "  </thead>\n",
       "  <tbody>\n",
       "    <tr>\n",
       "      <th>17i5jLpzndlQhbS4SrTd0B</th>\n",
       "      <td>0.081501</td>\n",
       "      <td>0.343939</td>\n",
       "      <td>0.578072</td>\n",
       "      <td>Cello Suite No. 1 in G Major, BWV 1007: I. Pré...</td>\n",
       "      <td>5aIqB5nVVvmFsvSdExz408</td>\n",
       "      <td>Johann Sebastian Bach</td>\n",
       "      <td>3cvjMNWg7t46NyDZzujfNg</td>\n",
       "      <td>Bach: Cello Suites Nos. 1, 5 &amp; 6</td>\n",
       "      <td>65</td>\n",
       "      <td>0</td>\n",
       "      <td>0.2750</td>\n",
       "      <td>0.1570</td>\n",
       "      <td>7</td>\n",
       "      <td>1</td>\n",
       "      <td>0.0636</td>\n",
       "      <td>0.890</td>\n",
       "      <td>0.842</td>\n",
       "      <td>0.186</td>\n",
       "      <td>0.3040</td>\n",
       "      <td>4</td>\n",
       "    </tr>\n",
       "    <tr>\n",
       "      <th>4SFBV7SRNG2e2kyL1F6kjU</th>\n",
       "      <td>0.070859</td>\n",
       "      <td>0.627115</td>\n",
       "      <td>0.423640</td>\n",
       "      <td>The Well-Tempered Clavier: Book 1, BWV 846-869...</td>\n",
       "      <td>5aIqB5nVVvmFsvSdExz408</td>\n",
       "      <td>Johann Sebastian Bach</td>\n",
       "      <td>1XORY4rQNhqkZxTze6Px90</td>\n",
       "      <td>Piano Book (Deluxe Edition)</td>\n",
       "      <td>58</td>\n",
       "      <td>0</td>\n",
       "      <td>0.2210</td>\n",
       "      <td>0.1260</td>\n",
       "      <td>0</td>\n",
       "      <td>1</td>\n",
       "      <td>0.0447</td>\n",
       "      <td>0.989</td>\n",
       "      <td>0.897</td>\n",
       "      <td>0.102</td>\n",
       "      <td>0.2160</td>\n",
       "      <td>4</td>\n",
       "    </tr>\n",
       "    <tr>\n",
       "      <th>3zLTPuucd3e6TxZnu2dlVS</th>\n",
       "      <td>0.130546</td>\n",
       "      <td>0.589478</td>\n",
       "      <td>0.299563</td>\n",
       "      <td>Bagatelle No. 25 in A Minor, WoO 59 \"Für Elise\"</td>\n",
       "      <td>2wOqMjp9TyABvtHdOSOTUS</td>\n",
       "      <td>Ludwig van Beethoven</td>\n",
       "      <td>230jpjk9w7MGupNMMvXoaN</td>\n",
       "      <td>Für Elise, Bagatelle No. 25 in A Minor, WoO 59</td>\n",
       "      <td>58</td>\n",
       "      <td>0</td>\n",
       "      <td>0.2890</td>\n",
       "      <td>0.0306</td>\n",
       "      <td>9</td>\n",
       "      <td>0</td>\n",
       "      <td>0.0446</td>\n",
       "      <td>0.987</td>\n",
       "      <td>0.911</td>\n",
       "      <td>0.102</td>\n",
       "      <td>0.1180</td>\n",
       "      <td>3</td>\n",
       "    </tr>\n",
       "    <tr>\n",
       "      <th>7h6GoPvGHC9uzZJ8bNvfIq</th>\n",
       "      <td>0.256123</td>\n",
       "      <td>0.374500</td>\n",
       "      <td>0.380955</td>\n",
       "      <td>Suite No. 3 in D Major, BWV 1068: II. Air</td>\n",
       "      <td>5aIqB5nVVvmFsvSdExz408</td>\n",
       "      <td>Johann Sebastian Bach</td>\n",
       "      <td>1WuKnZDy27KDdLr96p0D8A</td>\n",
       "      <td>Albinoni: Adagio in G minor / Pachelbel: Canon</td>\n",
       "      <td>57</td>\n",
       "      <td>0</td>\n",
       "      <td>0.0753</td>\n",
       "      <td>0.0700</td>\n",
       "      <td>2</td>\n",
       "      <td>1</td>\n",
       "      <td>0.0440</td>\n",
       "      <td>0.918</td>\n",
       "      <td>0.947</td>\n",
       "      <td>0.146</td>\n",
       "      <td>0.0625</td>\n",
       "      <td>4</td>\n",
       "    </tr>\n",
       "    <tr>\n",
       "      <th>5x3TUfYzgZIdt0Kaop64ss</th>\n",
       "      <td>0.204397</td>\n",
       "      <td>0.399044</td>\n",
       "      <td>0.638688</td>\n",
       "      <td>Pachelbel: Canon and Gigue in D Major for 3 Vi...</td>\n",
       "      <td>62TD7509VQIxUe4WpwO0s3</td>\n",
       "      <td>Johann Pachelbel</td>\n",
       "      <td>35AZkwcf7WxuzNQ6iOhiIh</td>\n",
       "      <td>Relax</td>\n",
       "      <td>0</td>\n",
       "      <td>0</td>\n",
       "      <td>0.1300</td>\n",
       "      <td>0.1580</td>\n",
       "      <td>2</td>\n",
       "      <td>1</td>\n",
       "      <td>0.0350</td>\n",
       "      <td>0.748</td>\n",
       "      <td>0.924</td>\n",
       "      <td>0.100</td>\n",
       "      <td>0.0998</td>\n",
       "      <td>4</td>\n",
       "    </tr>\n",
       "  </tbody>\n",
       "</table>\n",
       "</div>"
      ],
      "text/plain": [
       "                        duration_ms     tempo  loudness  \\\n",
       "id                                                        \n",
       "17i5jLpzndlQhbS4SrTd0B     0.081501  0.343939  0.578072   \n",
       "4SFBV7SRNG2e2kyL1F6kjU     0.070859  0.627115  0.423640   \n",
       "3zLTPuucd3e6TxZnu2dlVS     0.130546  0.589478  0.299563   \n",
       "7h6GoPvGHC9uzZJ8bNvfIq     0.256123  0.374500  0.380955   \n",
       "5x3TUfYzgZIdt0Kaop64ss     0.204397  0.399044  0.638688   \n",
       "\n",
       "                                                                     name  \\\n",
       "id                                                                          \n",
       "17i5jLpzndlQhbS4SrTd0B  Cello Suite No. 1 in G Major, BWV 1007: I. Pré...   \n",
       "4SFBV7SRNG2e2kyL1F6kjU  The Well-Tempered Clavier: Book 1, BWV 846-869...   \n",
       "3zLTPuucd3e6TxZnu2dlVS    Bagatelle No. 25 in A Minor, WoO 59 \"Für Elise\"   \n",
       "7h6GoPvGHC9uzZJ8bNvfIq          Suite No. 3 in D Major, BWV 1068: II. Air   \n",
       "5x3TUfYzgZIdt0Kaop64ss  Pachelbel: Canon and Gigue in D Major for 3 Vi...   \n",
       "\n",
       "                                     artist_id                 artist  \\\n",
       "id                                                                      \n",
       "17i5jLpzndlQhbS4SrTd0B  5aIqB5nVVvmFsvSdExz408  Johann Sebastian Bach   \n",
       "4SFBV7SRNG2e2kyL1F6kjU  5aIqB5nVVvmFsvSdExz408  Johann Sebastian Bach   \n",
       "3zLTPuucd3e6TxZnu2dlVS  2wOqMjp9TyABvtHdOSOTUS   Ludwig van Beethoven   \n",
       "7h6GoPvGHC9uzZJ8bNvfIq  5aIqB5nVVvmFsvSdExz408  Johann Sebastian Bach   \n",
       "5x3TUfYzgZIdt0Kaop64ss  62TD7509VQIxUe4WpwO0s3       Johann Pachelbel   \n",
       "\n",
       "                                      album_id  \\\n",
       "id                                               \n",
       "17i5jLpzndlQhbS4SrTd0B  3cvjMNWg7t46NyDZzujfNg   \n",
       "4SFBV7SRNG2e2kyL1F6kjU  1XORY4rQNhqkZxTze6Px90   \n",
       "3zLTPuucd3e6TxZnu2dlVS  230jpjk9w7MGupNMMvXoaN   \n",
       "7h6GoPvGHC9uzZJ8bNvfIq  1WuKnZDy27KDdLr96p0D8A   \n",
       "5x3TUfYzgZIdt0Kaop64ss  35AZkwcf7WxuzNQ6iOhiIh   \n",
       "\n",
       "                                                                 album  \\\n",
       "id                                                                       \n",
       "17i5jLpzndlQhbS4SrTd0B                Bach: Cello Suites Nos. 1, 5 & 6   \n",
       "4SFBV7SRNG2e2kyL1F6kjU                     Piano Book (Deluxe Edition)   \n",
       "3zLTPuucd3e6TxZnu2dlVS  Für Elise, Bagatelle No. 25 in A Minor, WoO 59   \n",
       "7h6GoPvGHC9uzZJ8bNvfIq  Albinoni: Adagio in G minor / Pachelbel: Canon   \n",
       "5x3TUfYzgZIdt0Kaop64ss                                           Relax   \n",
       "\n",
       "                        popularity  playlist  danceability  energy  key  mode  \\\n",
       "id                                                                              \n",
       "17i5jLpzndlQhbS4SrTd0B          65         0        0.2750  0.1570    7     1   \n",
       "4SFBV7SRNG2e2kyL1F6kjU          58         0        0.2210  0.1260    0     1   \n",
       "3zLTPuucd3e6TxZnu2dlVS          58         0        0.2890  0.0306    9     0   \n",
       "7h6GoPvGHC9uzZJ8bNvfIq          57         0        0.0753  0.0700    2     1   \n",
       "5x3TUfYzgZIdt0Kaop64ss           0         0        0.1300  0.1580    2     1   \n",
       "\n",
       "                        speechiness  acousticness  instrumentalness  liveness  \\\n",
       "id                                                                              \n",
       "17i5jLpzndlQhbS4SrTd0B       0.0636         0.890             0.842     0.186   \n",
       "4SFBV7SRNG2e2kyL1F6kjU       0.0447         0.989             0.897     0.102   \n",
       "3zLTPuucd3e6TxZnu2dlVS       0.0446         0.987             0.911     0.102   \n",
       "7h6GoPvGHC9uzZJ8bNvfIq       0.0440         0.918             0.947     0.146   \n",
       "5x3TUfYzgZIdt0Kaop64ss       0.0350         0.748             0.924     0.100   \n",
       "\n",
       "                        valence  time_signature  \n",
       "id                                               \n",
       "17i5jLpzndlQhbS4SrTd0B   0.3040               4  \n",
       "4SFBV7SRNG2e2kyL1F6kjU   0.2160               4  \n",
       "3zLTPuucd3e6TxZnu2dlVS   0.1180               3  \n",
       "7h6GoPvGHC9uzZJ8bNvfIq   0.0625               4  \n",
       "5x3TUfYzgZIdt0Kaop64ss   0.0998               4  "
      ]
     },
     "execution_count": 182,
     "metadata": {},
     "output_type": "execute_result"
    }
   ],
   "source": [
    "new_df.head(5)"
   ]
  },
  {
   "cell_type": "code",
   "execution_count": 183,
   "metadata": {},
   "outputs": [
    {
     "data": {
      "text/plain": [
       "0.15639706977712822"
      ]
     },
     "execution_count": 183,
     "metadata": {},
     "output_type": "execute_result"
    }
   ],
   "source": [
    "new_df['duration_ms'].mean()"
   ]
  },
  {
   "cell_type": "markdown",
   "metadata": {},
   "source": [
    "Odstranjevanje osamelcev, normalizacija za datoteko Playlists5.csv."
   ]
  },
  {
   "cell_type": "code",
   "execution_count": 185,
   "metadata": {},
   "outputs": [],
   "source": [
    "# new_df.to_csv('Data\\Playlist\\Playlists5.csv')"
   ]
  },
  {
   "cell_type": "code",
   "execution_count": 197,
   "metadata": {},
   "outputs": [],
   "source": [
    "df_tracks1 = pd.read_csv('Data\\Genre\\Tracks_2_AudioF.csv', index_col=(0,1))\n",
    "df_tracks1.drop_duplicates(subset=['id'], inplace=True)\n",
    "df_tracks1.set_index(\"id\", inplace=True)\n",
    "\n",
    "df_tracks1['loudness'] = df_tracks1['loudness'] + 60\n",
    "df_tracks1 = normalize('loudness', df_tracks1)\n",
    "df_tracks1 = normalize('tempo', df_tracks1)\n",
    "df_tracks1 = normalize('duration_ms', df_tracks1)"
   ]
  },
  {
   "cell_type": "code",
   "execution_count": 198,
   "metadata": {},
   "outputs": [
    {
     "data": {
      "text/html": [
       "<div>\n",
       "<style scoped>\n",
       "    .dataframe tbody tr th:only-of-type {\n",
       "        vertical-align: middle;\n",
       "    }\n",
       "\n",
       "    .dataframe tbody tr th {\n",
       "        vertical-align: top;\n",
       "    }\n",
       "\n",
       "    .dataframe thead th {\n",
       "        text-align: right;\n",
       "    }\n",
       "</style>\n",
       "<table border=\"1\" class=\"dataframe\">\n",
       "  <thead>\n",
       "    <tr style=\"text-align: right;\">\n",
       "      <th></th>\n",
       "      <th>duration_ms</th>\n",
       "      <th>tempo</th>\n",
       "      <th>loudness</th>\n",
       "      <th>name</th>\n",
       "      <th>artist_id</th>\n",
       "      <th>genre</th>\n",
       "      <th>album_id</th>\n",
       "      <th>danceability</th>\n",
       "      <th>energy</th>\n",
       "      <th>key</th>\n",
       "      <th>mode</th>\n",
       "      <th>speechiness</th>\n",
       "      <th>acousticness</th>\n",
       "      <th>instrumentalness</th>\n",
       "      <th>liveness</th>\n",
       "      <th>valence</th>\n",
       "      <th>time_signature</th>\n",
       "    </tr>\n",
       "    <tr>\n",
       "      <th>id</th>\n",
       "      <th></th>\n",
       "      <th></th>\n",
       "      <th></th>\n",
       "      <th></th>\n",
       "      <th></th>\n",
       "      <th></th>\n",
       "      <th></th>\n",
       "      <th></th>\n",
       "      <th></th>\n",
       "      <th></th>\n",
       "      <th></th>\n",
       "      <th></th>\n",
       "      <th></th>\n",
       "      <th></th>\n",
       "      <th></th>\n",
       "      <th></th>\n",
       "      <th></th>\n",
       "    </tr>\n",
       "  </thead>\n",
       "  <tbody>\n",
       "    <tr>\n",
       "      <th>2HSmyk2qMN8WQjuGhaQgCk</th>\n",
       "      <td>0.069475</td>\n",
       "      <td>0.349686</td>\n",
       "      <td>0.850311</td>\n",
       "      <td>Champagne Poetry</td>\n",
       "      <td>3TVXtAsR1Inumwj472S9r4</td>\n",
       "      <td>rap</td>\n",
       "      <td>3SpBlxme9WbeQdI9kx7KAV</td>\n",
       "      <td>0.423</td>\n",
       "      <td>0.667</td>\n",
       "      <td>6</td>\n",
       "      <td>0</td>\n",
       "      <td>0.326</td>\n",
       "      <td>0.758</td>\n",
       "      <td>0.000000</td>\n",
       "      <td>0.246</td>\n",
       "      <td>0.496</td>\n",
       "      <td>4</td>\n",
       "    </tr>\n",
       "    <tr>\n",
       "      <th>6jy9yJfgCsMHdu2Oz4BGKX</th>\n",
       "      <td>0.036518</td>\n",
       "      <td>0.565093</td>\n",
       "      <td>0.864032</td>\n",
       "      <td>Papi’s Home</td>\n",
       "      <td>3TVXtAsR1Inumwj472S9r4</td>\n",
       "      <td>rap</td>\n",
       "      <td>3SpBlxme9WbeQdI9kx7KAV</td>\n",
       "      <td>0.701</td>\n",
       "      <td>0.741</td>\n",
       "      <td>2</td>\n",
       "      <td>1</td>\n",
       "      <td>0.313</td>\n",
       "      <td>0.112</td>\n",
       "      <td>0.000000</td>\n",
       "      <td>0.699</td>\n",
       "      <td>0.588</td>\n",
       "      <td>4</td>\n",
       "    </tr>\n",
       "    <tr>\n",
       "      <th>37Nqx7iavZpotJSDXZWbJ3</th>\n",
       "      <td>0.045568</td>\n",
       "      <td>0.350621</td>\n",
       "      <td>0.822806</td>\n",
       "      <td>Girls Want Girls (with Lil Baby)</td>\n",
       "      <td>3TVXtAsR1Inumwj472S9r4</td>\n",
       "      <td>rap</td>\n",
       "      <td>3SpBlxme9WbeQdI9kx7KAV</td>\n",
       "      <td>0.767</td>\n",
       "      <td>0.438</td>\n",
       "      <td>7</td>\n",
       "      <td>0</td>\n",
       "      <td>0.290</td>\n",
       "      <td>0.181</td>\n",
       "      <td>0.000000</td>\n",
       "      <td>0.142</td>\n",
       "      <td>0.381</td>\n",
       "      <td>4</td>\n",
       "    </tr>\n",
       "    <tr>\n",
       "      <th>61S79KIVA4I9FXbnsylEHT</th>\n",
       "      <td>0.061137</td>\n",
       "      <td>0.576756</td>\n",
       "      <td>0.828840</td>\n",
       "      <td>In The Bible (with Lil Durk &amp; Giveon)</td>\n",
       "      <td>3TVXtAsR1Inumwj472S9r4</td>\n",
       "      <td>rap</td>\n",
       "      <td>3SpBlxme9WbeQdI9kx7KAV</td>\n",
       "      <td>0.686</td>\n",
       "      <td>0.385</td>\n",
       "      <td>7</td>\n",
       "      <td>0</td>\n",
       "      <td>0.297</td>\n",
       "      <td>0.614</td>\n",
       "      <td>0.000000</td>\n",
       "      <td>0.131</td>\n",
       "      <td>0.147</td>\n",
       "      <td>4</td>\n",
       "    </tr>\n",
       "    <tr>\n",
       "      <th>4VCbgIdr8ptegWeJpqLVHH</th>\n",
       "      <td>0.046921</td>\n",
       "      <td>0.371406</td>\n",
       "      <td>0.875505</td>\n",
       "      <td>Love All (with JAY-Z)</td>\n",
       "      <td>3TVXtAsR1Inumwj472S9r4</td>\n",
       "      <td>rap</td>\n",
       "      <td>3SpBlxme9WbeQdI9kx7KAV</td>\n",
       "      <td>0.730</td>\n",
       "      <td>0.576</td>\n",
       "      <td>2</td>\n",
       "      <td>1</td>\n",
       "      <td>0.287</td>\n",
       "      <td>0.354</td>\n",
       "      <td>0.000036</td>\n",
       "      <td>0.150</td>\n",
       "      <td>0.155</td>\n",
       "      <td>4</td>\n",
       "    </tr>\n",
       "  </tbody>\n",
       "</table>\n",
       "</div>"
      ],
      "text/plain": [
       "                        duration_ms     tempo  loudness  \\\n",
       "id                                                        \n",
       "2HSmyk2qMN8WQjuGhaQgCk     0.069475  0.349686  0.850311   \n",
       "6jy9yJfgCsMHdu2Oz4BGKX     0.036518  0.565093  0.864032   \n",
       "37Nqx7iavZpotJSDXZWbJ3     0.045568  0.350621  0.822806   \n",
       "61S79KIVA4I9FXbnsylEHT     0.061137  0.576756  0.828840   \n",
       "4VCbgIdr8ptegWeJpqLVHH     0.046921  0.371406  0.875505   \n",
       "\n",
       "                                                         name  \\\n",
       "id                                                              \n",
       "2HSmyk2qMN8WQjuGhaQgCk                       Champagne Poetry   \n",
       "6jy9yJfgCsMHdu2Oz4BGKX                            Papi’s Home   \n",
       "37Nqx7iavZpotJSDXZWbJ3       Girls Want Girls (with Lil Baby)   \n",
       "61S79KIVA4I9FXbnsylEHT  In The Bible (with Lil Durk & Giveon)   \n",
       "4VCbgIdr8ptegWeJpqLVHH                  Love All (with JAY-Z)   \n",
       "\n",
       "                                     artist_id genre                album_id  \\\n",
       "id                                                                             \n",
       "2HSmyk2qMN8WQjuGhaQgCk  3TVXtAsR1Inumwj472S9r4   rap  3SpBlxme9WbeQdI9kx7KAV   \n",
       "6jy9yJfgCsMHdu2Oz4BGKX  3TVXtAsR1Inumwj472S9r4   rap  3SpBlxme9WbeQdI9kx7KAV   \n",
       "37Nqx7iavZpotJSDXZWbJ3  3TVXtAsR1Inumwj472S9r4   rap  3SpBlxme9WbeQdI9kx7KAV   \n",
       "61S79KIVA4I9FXbnsylEHT  3TVXtAsR1Inumwj472S9r4   rap  3SpBlxme9WbeQdI9kx7KAV   \n",
       "4VCbgIdr8ptegWeJpqLVHH  3TVXtAsR1Inumwj472S9r4   rap  3SpBlxme9WbeQdI9kx7KAV   \n",
       "\n",
       "                        danceability  energy  key  mode  speechiness  \\\n",
       "id                                                                     \n",
       "2HSmyk2qMN8WQjuGhaQgCk         0.423   0.667    6     0        0.326   \n",
       "6jy9yJfgCsMHdu2Oz4BGKX         0.701   0.741    2     1        0.313   \n",
       "37Nqx7iavZpotJSDXZWbJ3         0.767   0.438    7     0        0.290   \n",
       "61S79KIVA4I9FXbnsylEHT         0.686   0.385    7     0        0.297   \n",
       "4VCbgIdr8ptegWeJpqLVHH         0.730   0.576    2     1        0.287   \n",
       "\n",
       "                        acousticness  instrumentalness  liveness  valence  \\\n",
       "id                                                                          \n",
       "2HSmyk2qMN8WQjuGhaQgCk         0.758          0.000000     0.246    0.496   \n",
       "6jy9yJfgCsMHdu2Oz4BGKX         0.112          0.000000     0.699    0.588   \n",
       "37Nqx7iavZpotJSDXZWbJ3         0.181          0.000000     0.142    0.381   \n",
       "61S79KIVA4I9FXbnsylEHT         0.614          0.000000     0.131    0.147   \n",
       "4VCbgIdr8ptegWeJpqLVHH         0.354          0.000036     0.150    0.155   \n",
       "\n",
       "                        time_signature  \n",
       "id                                      \n",
       "2HSmyk2qMN8WQjuGhaQgCk               4  \n",
       "6jy9yJfgCsMHdu2Oz4BGKX               4  \n",
       "37Nqx7iavZpotJSDXZWbJ3               4  \n",
       "61S79KIVA4I9FXbnsylEHT               4  \n",
       "4VCbgIdr8ptegWeJpqLVHH               4  "
      ]
     },
     "execution_count": 198,
     "metadata": {},
     "output_type": "execute_result"
    }
   ],
   "source": [
    "df_tracks1.head()"
   ]
  },
  {
   "cell_type": "code",
   "execution_count": 199,
   "metadata": {},
   "outputs": [
    {
     "data": {
      "text/plain": [
       "(83698, 17)"
      ]
     },
     "execution_count": 199,
     "metadata": {},
     "output_type": "execute_result"
    }
   ],
   "source": [
    "df_tracks1.shape"
   ]
  },
  {
   "cell_type": "code",
   "execution_count": 200,
   "metadata": {},
   "outputs": [],
   "source": [
    "# df_tracks1.to_csv('Data\\Genre\\Tracks_classification_raw.csv')"
   ]
  },
  {
   "cell_type": "code",
   "execution_count": null,
   "metadata": {},
   "outputs": [],
   "source": []
  }
 ],
 "metadata": {
  "kernelspec": {
   "display_name": "Python 3",
   "language": "python",
   "name": "python3"
  },
  "language_info": {
   "codemirror_mode": {
    "name": "ipython",
    "version": 3
   },
   "file_extension": ".py",
   "mimetype": "text/x-python",
   "name": "python",
   "nbconvert_exporter": "python",
   "pygments_lexer": "ipython3",
   "version": "3.8.1"
  },
  "latex_envs": {
   "LaTeX_envs_menu_present": true,
   "autoclose": false,
   "autocomplete": true,
   "bibliofile": "biblio.bib",
   "cite_by": "apalike",
   "current_citInitial": 1,
   "eqLabelWithNumbers": true,
   "eqNumInitial": 1,
   "hotkeys": {
    "equation": "Ctrl-E",
    "itemize": "Ctrl-I"
   },
   "labels_anchors": false,
   "latex_user_defs": false,
   "report_style_numbering": false,
   "user_envs_cfg": false
  },
  "nbTranslate": {
   "displayLangs": [
    "*"
   ],
   "hotkey": "alt-t",
   "langInMainMenu": true,
   "sourceLang": "en",
   "targetLang": "fr",
   "useGoogleTranslate": true
  }
 },
 "nbformat": 4,
 "nbformat_minor": 5
}
