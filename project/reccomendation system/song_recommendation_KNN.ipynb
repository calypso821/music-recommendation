{
 "cells": [
  {
   "cell_type": "markdown",
   "metadata": {},
   "source": [
    "## Uvrscanje pesmi na playlist\n",
    "Cilj: uvrstiti (predlagati) n - novih pesmi, ki se pojavijo na platformi, playlistam, ki imajo najvec sosednih pesmi.\n",
    "\n",
    "1. Nakljucno izberemo n pesmi iz playlistov, te pesmi bomo napovedovali\n",
    "2. Za vsako pesem izracunamo 100 najbliznjih sosedov vseh playlist\n",
    "3. Izracunamo delez, na katerih playlistih se pojavi najvec sosed "
   ]
  },
  {
   "cell_type": "code",
   "execution_count": 1,
   "metadata": {},
   "outputs": [],
   "source": [
    "# Visualization\n",
    "\n",
    "# scatter plot data + selected data\n",
    "# radviz , scatterplot\n",
    "# knn - podobnost 2 playlistov (predlagamo pesmi drugih playlistov - podobnih)"
   ]
  },
  {
   "cell_type": "code",
   "execution_count": 2,
   "metadata": {},
   "outputs": [],
   "source": [
    "from sklearn.neighbors import NearestNeighbors\n",
    "import pandas as pd"
   ]
  },
  {
   "cell_type": "code",
   "execution_count": 3,
   "metadata": {},
   "outputs": [],
   "source": [
    "def playlist(df_pl):\n",
    "    # df_pl.drop_duplicates(subset=['id'], inplace=True)\n",
    "    # df_pl.set_index(\"id\", inplace=True)\n",
    "\n",
    "    df_audio = df_pl.loc[:, ['danceability', 'energy', 'loudness', \n",
    "                      'speechiness', 'acousticness', 'instrumentalness',\n",
    "                       'liveness', 'valence', 'tempo', 'duration_ms']]\n",
    "    \n",
    "    return df_audio, df_pl"
   ]
  },
  {
   "cell_type": "code",
   "execution_count": 4,
   "metadata": {},
   "outputs": [],
   "source": [
    "def playlists(path):\n",
    "    pls = []\n",
    "    df = pd.read_csv(path, index_col=0)\n",
    "    i = 0\n",
    "    df_pl = pd.DataFrame(df.loc[df['playlist'] == i])\n",
    "    while df_pl.shape[0] > 0:\n",
    "        pls.append(df_pl)\n",
    "        i += 1\n",
    "        df_pl = pd.DataFrame(df.loc[df['playlist'] == i])\n",
    "    \n",
    "    tab_audio = []\n",
    "    tab_df = []\n",
    "    \n",
    "    for pl in pls:\n",
    "        df_audio, df_pl = playlist(pl)\n",
    "        tab_audio.append(df_audio)\n",
    "        tab_df.append(df_pl)\n",
    "         \n",
    "    return [tab_df, tab_audio]"
   ]
  },
  {
   "cell_type": "code",
   "execution_count": 5,
   "metadata": {},
   "outputs": [],
   "source": [
    "tab_df_pl = playlists('Data\\Playlist\\Playlists5.csv')\n",
    "tab_df = tab_df_pl[0]\n",
    "audio_df = tab_df_pl[1]"
   ]
  },
  {
   "cell_type": "code",
   "execution_count": 6,
   "metadata": {},
   "outputs": [],
   "source": [
    " # PLAYLISTS\n",
    "    # 0,1,2,3 - classical\n",
    "    # 4,5,6,7 - rap\n",
    "    # 8,9 - edm\n",
    "    # 10 - techno\n",
    "    # 11 - House\n",
    "    # 12,13,14,15 - rock\n",
    "    # 16,17,18,19 - latin\n",
    "    # 20,21,22,23 - pop"
   ]
  },
  {
   "cell_type": "markdown",
   "metadata": {},
   "source": [
    "Iz 1. playlista nakljucno izberemo 1 pesem, ki jo bomo napovedovali. \n",
    "\n",
    "S KNN algoritmom bomo izracunalni njenih 200 najbliznjih sosed (izmed vseh pesmi na vseh playlistih, ki jih imamo)"
   ]
  },
  {
   "cell_type": "code",
   "execution_count": 41,
   "metadata": {},
   "outputs": [],
   "source": [
    "song = audio_df[6].sample()"
   ]
  },
  {
   "cell_type": "code",
   "execution_count": 42,
   "metadata": {},
   "outputs": [],
   "source": [
    "df_all = pd.concat(audio_df)\n",
    "df = pd.concat(tab_df)"
   ]
  },
  {
   "cell_type": "markdown",
   "metadata": {},
   "source": [
    "Izmed vseh pesmi z vseh playlistov, ki jih imamo izracunamo 200 najbliznjih sosed pesmi."
   ]
  },
  {
   "cell_type": "code",
   "execution_count": 43,
   "metadata": {},
   "outputs": [
    {
     "name": "stdout",
     "output_type": "stream",
     "text": [
      "[[ 535  435  577  570 1324  391  547  562  455  542  546  437  593  406\n",
      "   436  559  538  441  491  498  578  517  423  478  413  453 1942  533\n",
      "   511  400  584  505  516  599 1361  518  466  532  541  485  426 1538\n",
      "   571  445  417  456  495  442 1283  412  601  548  558 1383  561  501\n",
      "   448  409  377  422 1303 1277  465  596  393  410  521  420  438 1473\n",
      "   497 1372  537  565  496 1628  404  569  403 1561 1344  390  524  526\n",
      "   492  418  432  407  591 1804 1317  572  384  388  769  482  557 1863\n",
      "   468 1299 1687  451  480  380  583  594  500 1774 1386 1540  536 1289\n",
      "  1316  514  563  392  375 1708  567  381  600  376  471  588 1522 1459\n",
      "   444  551  402  580  460  396  433  374  452  506  564  576 1900 1315\n",
      "   477  520  618  789 1770  414  464  566 1852  378  560  411  573  467\n",
      "   587 1412 1472 2003  459  486 1347 1332  475 1346 1987  586 1996  582\n",
      "  1290 1716 1273  504 1463 1284 1727 1794  574 1513 1854 1626 1641 1297\n",
      "  1850 1861 1352  581  472 1624 1274  528  469  449 1517 1630  439  398\n",
      "  1458  873  554  372]]\n"
     ]
    }
   ],
   "source": [
    "nbrs = NearestNeighbors(n_neighbors=200).fit(df_all)\n",
    "distances, indices = nbrs.kneighbors(song)\n",
    "print(indices)\n",
    "# print(distances)"
   ]
  },
  {
   "cell_type": "code",
   "execution_count": 44,
   "metadata": {},
   "outputs": [
    {
     "name": "stdout",
     "output_type": "stream",
     "text": [
      "Pesem:  2MS\n",
      "10 najbolj podobnih pesmi: \n",
      "\n",
      "PL:  5 Song name:  Life Is Good (feat. Drake)\n",
      "PL:  7 Song name:  Hot Shower\n",
      "PL:  6 Song name:  Airmax's\n",
      "PL:  16 Song name:  Demasiadas Mujeres\n",
      "PL:  4 Song name:  Ice Cream (feat. Rick Ross)\n",
      "PL:  6 Song name:  Black Beatles\n",
      "PL:  6 Song name:  I Wanna Start My Life Again\n",
      "PL:  5 Song name:  Ball If I Want To\n",
      "PL:  6 Song name:  22 Carats\n"
     ]
    }
   ],
   "source": [
    "print(\"Pesem: \", df.loc[song.index[0]]['name'])\n",
    "print(\"10 najbolj podobnih pesmi: \\n\")\n",
    "for x1 in indices[0][1:10]:\n",
    "    print(\"PL: \", df.iloc[x1]['playlist'], \"Song name: \", df.iloc[x1]['name'])"
   ]
  },
  {
   "cell_type": "markdown",
   "metadata": {},
   "source": [
    "Za pesem zanra klasika smo poisklai 10 najbolj podobnosih sosedov. Sosedi so iz 0 in 2 playlista, ki sta tudi klasika. \n",
    "\n",
    "Pomeni, da napovedi za 10 najbolj podobnih pesmi delujejo vredu."
   ]
  },
  {
   "cell_type": "code",
   "execution_count": 45,
   "metadata": {},
   "outputs": [],
   "source": [
    "pl_cnt  = [(0, 0)] * len(tab_df)\n",
    "for row, dist in zip(indices[0], distances[0]):\n",
    "    id1 = df_all.index[row]\n",
    "    pl = df[(df.index == id1)]['playlist'][0]\n",
    "    pl_cnt[pl] = (pl_cnt[pl][0] + 1, pl)\n",
    "\n",
    "for index, x in enumerate(pl_cnt):\n",
    "    pl_cnt[index] = (x[0] / tab_df[index].shape[0], index)"
   ]
  },
  {
   "cell_type": "code",
   "execution_count": 46,
   "metadata": {},
   "outputs": [
    {
     "name": "stdout",
     "output_type": "stream",
     "text": [
      "Playlist: 7 Delez najbliznjih sosedov: 67%\n",
      "Playlist: 6 Delez najbliznjih sosedov: 64%\n",
      "Playlist: 4 Delez najbliznjih sosedov: 58%\n"
     ]
    }
   ],
   "source": [
    "for y in sorted(pl_cnt, reverse=True)[0:3]:\n",
    "    print(\"Playlist: %d Delez najbliznjih sosedov: %.f%%\" % (y[1], y[0]*100))\n"
   ]
  },
  {
   "cell_type": "markdown",
   "metadata": {},
   "source": [
    "Pesem bi predlagali playlistu 2,1,0 ker ima pesem na teh playlistih najvecji delez podobnih sosedov.\n",
    "\n",
    "Za pesem zanra klasika bi uvrstili na playliste 0,1,2 (playlisti klasike), pomeni, da bi pesem napovedali pravemu uporabniku."
   ]
  },
  {
   "cell_type": "code",
   "execution_count": null,
   "metadata": {},
   "outputs": [],
   "source": []
  }
 ],
 "metadata": {
  "kernelspec": {
   "display_name": "Python 3 (ipykernel)",
   "language": "python",
   "name": "python3"
  },
  "language_info": {
   "codemirror_mode": {
    "name": "ipython",
    "version": 3
   },
   "file_extension": ".py",
   "mimetype": "text/x-python",
   "name": "python",
   "nbconvert_exporter": "python",
   "pygments_lexer": "ipython3",
   "version": "3.7.3"
  },
  "latex_envs": {
   "LaTeX_envs_menu_present": true,
   "autoclose": false,
   "autocomplete": true,
   "bibliofile": "biblio.bib",
   "cite_by": "apalike",
   "current_citInitial": 1,
   "eqLabelWithNumbers": true,
   "eqNumInitial": 1,
   "hotkeys": {
    "equation": "Ctrl-E",
    "itemize": "Ctrl-I"
   },
   "labels_anchors": false,
   "latex_user_defs": false,
   "report_style_numbering": false,
   "user_envs_cfg": false
  },
  "nbTranslate": {
   "displayLangs": [
    "*"
   ],
   "hotkey": "alt-t",
   "langInMainMenu": true,
   "sourceLang": "en",
   "targetLang": "fr",
   "useGoogleTranslate": true
  }
 },
 "nbformat": 4,
 "nbformat_minor": 4
}
