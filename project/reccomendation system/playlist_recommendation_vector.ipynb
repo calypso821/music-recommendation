{
 "cells": [
  {
   "cell_type": "markdown",
   "id": "90194f0c",
   "metadata": {},
   "source": [
    "## Primerjava playlistov (uporabnikov) in pesmi z vekotrjem atributov\n",
    "\n",
    "1. Izracun vekotorja - povprecje (mean) ALI sestevek (sum) vseh vrstic \n",
    "2. Primerjava 2 vektorjev s funkcijo cosine_similarity\n",
    "\n",
    "Vsak playlist predstavlja nekega uporabnika, ki poslusa pesmi na playlistu. S primerjavo vektorjev bomo ugotovili podobnost pesmi 2 uporabnikov. "
   ]
  },
  {
   "cell_type": "code",
   "execution_count": 1,
   "id": "6984041e",
   "metadata": {},
   "outputs": [],
   "source": [
    "import pandas as pd \n",
    "from sklearn.preprocessing import MinMaxScaler"
   ]
  },
  {
   "cell_type": "code",
   "execution_count": 2,
   "id": "e8f9fbea",
   "metadata": {},
   "outputs": [],
   "source": [
    "def playlists(path):\n",
    "    pls = []\n",
    "    df = pd.read_csv(path, index_col=0)\n",
    "    i = 0\n",
    "    df_pl = pd.DataFrame(df.loc[df['playlist'] == i])\n",
    "    while df_pl.shape[0] > 0:\n",
    "        pls.append(df_pl)\n",
    "        i += 1\n",
    "        df_pl = pd.DataFrame(df.loc[df['playlist'] == i])\n",
    "    \n",
    "    tab_audio = []\n",
    "    tab_df = []\n",
    "    \n",
    "    for pl in pls:\n",
    "        df_audio, df_pl = playlist(pl)\n",
    "        tab_audio.append(df_audio)\n",
    "        tab_df.append(df_pl)\n",
    "         \n",
    "    return [tab_df, tab_audio]\n",
    "\n",
    "def playlist(df_pl):\n",
    "    # df_pl.drop_duplicates(subset=['id'], inplace=True)\n",
    "    # df_pl.set_index(\"id\", inplace=True)\n",
    "\n",
    "    df_audio = df_pl.loc[:, ['danceability', 'energy', 'loudness', \n",
    "                      'speechiness', 'acousticness', 'instrumentalness',\n",
    "                       'liveness', 'valence', 'tempo', 'duration_ms']]  \n",
    "\n",
    "    return df_audio, df_pl"
   ]
  },
  {
   "cell_type": "markdown",
   "id": "d2a5df61",
   "metadata": {},
   "source": [
    "Prebermo vse pesmi iz datoteke Playlists5.csv in jih razdelimo v pripadane playliste.\n",
    "Razdelimo jih s funckijo 'playlists'.\n",
    "\n",
    "Datoteka vsebuje 24 playlistov razlicnih zanrov."
   ]
  },
  {
   "cell_type": "code",
   "execution_count": 31,
   "id": "77e9c576",
   "metadata": {
    "scrolled": false
   },
   "outputs": [
    {
     "data": {
      "text/plain": [
       "(137, 10)"
      ]
     },
     "execution_count": 31,
     "metadata": {},
     "output_type": "execute_result"
    }
   ],
   "source": [
    "tab_df_pl = playlists('Data\\Playlist\\Playlists5.csv')\n",
    "tab_df = tab_df_pl[0]\n",
    "audio_df = tab_df_pl[1]\n",
    "audio_df[2].shape"
   ]
  },
  {
   "cell_type": "code",
   "execution_count": 32,
   "id": "2e1978c8",
   "metadata": {},
   "outputs": [],
   "source": [
    " # PLAYLISTS\n",
    "    # 0,1,2,3 - classical\n",
    "    # 4,5,6,7 - rap\n",
    "    # 8,9 - edm\n",
    "    # 10 - techno\n",
    "    # 11 - House\n",
    "    # 12,13,14,15 - rock\n",
    "    # 16,17,18,19 - latin\n",
    "    # 20,21,22,23 - pop"
   ]
  },
  {
   "cell_type": "code",
   "execution_count": 33,
   "id": "ac6df07e",
   "metadata": {},
   "outputs": [],
   "source": [
    "song = audio_df[0].head(1)\n",
    "playlist1 = audio_df[0]"
   ]
  },
  {
   "cell_type": "code",
   "execution_count": 34,
   "id": "578517bc",
   "metadata": {
    "scrolled": true
   },
   "outputs": [
    {
     "data": {
      "text/html": [
       "<div>\n",
       "<style scoped>\n",
       "    .dataframe tbody tr th:only-of-type {\n",
       "        vertical-align: middle;\n",
       "    }\n",
       "\n",
       "    .dataframe tbody tr th {\n",
       "        vertical-align: top;\n",
       "    }\n",
       "\n",
       "    .dataframe thead th {\n",
       "        text-align: right;\n",
       "    }\n",
       "</style>\n",
       "<table border=\"1\" class=\"dataframe\">\n",
       "  <thead>\n",
       "    <tr style=\"text-align: right;\">\n",
       "      <th></th>\n",
       "      <th>danceability</th>\n",
       "      <th>energy</th>\n",
       "      <th>loudness</th>\n",
       "      <th>speechiness</th>\n",
       "      <th>acousticness</th>\n",
       "      <th>instrumentalness</th>\n",
       "      <th>liveness</th>\n",
       "      <th>valence</th>\n",
       "      <th>tempo</th>\n",
       "      <th>duration_ms</th>\n",
       "    </tr>\n",
       "    <tr>\n",
       "      <th>id</th>\n",
       "      <th></th>\n",
       "      <th></th>\n",
       "      <th></th>\n",
       "      <th></th>\n",
       "      <th></th>\n",
       "      <th></th>\n",
       "      <th></th>\n",
       "      <th></th>\n",
       "      <th></th>\n",
       "      <th></th>\n",
       "    </tr>\n",
       "  </thead>\n",
       "  <tbody>\n",
       "    <tr>\n",
       "      <th>17i5jLpzndlQhbS4SrTd0B</th>\n",
       "      <td>0.275</td>\n",
       "      <td>0.157</td>\n",
       "      <td>0.578072</td>\n",
       "      <td>0.0636</td>\n",
       "      <td>0.89</td>\n",
       "      <td>0.842</td>\n",
       "      <td>0.186</td>\n",
       "      <td>0.304</td>\n",
       "      <td>0.343939</td>\n",
       "      <td>0.081501</td>\n",
       "    </tr>\n",
       "  </tbody>\n",
       "</table>\n",
       "</div>"
      ],
      "text/plain": [
       "                        danceability  energy  loudness  speechiness  \\\n",
       "id                                                                    \n",
       "17i5jLpzndlQhbS4SrTd0B         0.275   0.157  0.578072       0.0636   \n",
       "\n",
       "                        acousticness  instrumentalness  liveness  valence  \\\n",
       "id                                                                          \n",
       "17i5jLpzndlQhbS4SrTd0B          0.89             0.842     0.186    0.304   \n",
       "\n",
       "                           tempo  duration_ms  \n",
       "id                                             \n",
       "17i5jLpzndlQhbS4SrTd0B  0.343939     0.081501  "
      ]
     },
     "execution_count": 34,
     "metadata": {},
     "output_type": "execute_result"
    }
   ],
   "source": [
    "song"
   ]
  },
  {
   "cell_type": "code",
   "execution_count": 35,
   "id": "3534d958",
   "metadata": {},
   "outputs": [
    {
     "data": {
      "text/plain": [
       "0.2777122218694979"
      ]
     },
     "execution_count": 35,
     "metadata": {},
     "output_type": "execute_result"
    }
   ],
   "source": [
    "playlist1['duration_ms'].mean()"
   ]
  },
  {
   "cell_type": "code",
   "execution_count": 36,
   "id": "baf73851",
   "metadata": {},
   "outputs": [],
   "source": [
    "def playlist_vector(df_playlist, methode):\n",
    "    if methode == 'sum':\n",
    "        playlist_vector = df_playlist.sum(axis = 0)\n",
    "    elif methode == 'mean':\n",
    "        playlist_vector = df_playlist.mean(axis = 0)\n",
    "    return playlist_vector"
   ]
  },
  {
   "cell_type": "markdown",
   "id": "d00a1444",
   "metadata": {},
   "source": [
    "Iz playlista pesmi izracunamo vektor s funkcijo 'playlist_vector'. \n",
    "\n",
    "Vekotr lahko izracunamo iz poprecja vseh vrstic (mean) ali vse vrstice sestejemo skupja (sum)."
   ]
  },
  {
   "cell_type": "code",
   "execution_count": 41,
   "id": "7294688d",
   "metadata": {
    "scrolled": true
   },
   "outputs": [
    {
     "data": {
      "text/plain": [
       "[danceability         36.977300\n",
       " energy               15.234030\n",
       " loudness             69.692247\n",
       " speechiness           6.565600\n",
       " acousticness        135.374000\n",
       " instrumentalness    108.083291\n",
       " liveness             17.948000\n",
       " valence              22.355400\n",
       " tempo                71.024276\n",
       " duration_ms          40.823697\n",
       " dtype: float64]"
      ]
     },
     "execution_count": 41,
     "metadata": {},
     "output_type": "execute_result"
    }
   ],
   "source": [
    "playlist_vector1_sum = [playlist_vector(playlist1, 'sum')]\n",
    "playlist_vector1_sum"
   ]
  },
  {
   "cell_type": "code",
   "execution_count": 49,
   "id": "bc4f097d",
   "metadata": {
    "scrolled": true
   },
   "outputs": [
    {
     "data": {
      "text/plain": [
       "[danceability        0.251546\n",
       " energy              0.103633\n",
       " loudness            0.474097\n",
       " speechiness         0.044664\n",
       " acousticness        0.920912\n",
       " instrumentalness    0.735260\n",
       " liveness            0.122095\n",
       " valence             0.152078\n",
       " tempo               0.483158\n",
       " duration_ms         0.277712\n",
       " dtype: float64]"
      ]
     },
     "execution_count": 49,
     "metadata": {},
     "output_type": "execute_result"
    }
   ],
   "source": [
    "playlist_vector1_mean = [playlist_vector(playlist1, 'mean')]\n",
    "playlist_vector1_mean"
   ]
  },
  {
   "cell_type": "code",
   "execution_count": 50,
   "id": "996feb04",
   "metadata": {
    "scrolled": true
   },
   "outputs": [
    {
     "data": {
      "text/html": [
       "<div>\n",
       "<style scoped>\n",
       "    .dataframe tbody tr th:only-of-type {\n",
       "        vertical-align: middle;\n",
       "    }\n",
       "\n",
       "    .dataframe tbody tr th {\n",
       "        vertical-align: top;\n",
       "    }\n",
       "\n",
       "    .dataframe thead th {\n",
       "        text-align: right;\n",
       "    }\n",
       "</style>\n",
       "<table border=\"1\" class=\"dataframe\">\n",
       "  <thead>\n",
       "    <tr style=\"text-align: right;\">\n",
       "      <th></th>\n",
       "      <th>danceability</th>\n",
       "      <th>energy</th>\n",
       "      <th>loudness</th>\n",
       "      <th>speechiness</th>\n",
       "      <th>acousticness</th>\n",
       "      <th>instrumentalness</th>\n",
       "      <th>liveness</th>\n",
       "      <th>valence</th>\n",
       "      <th>tempo</th>\n",
       "      <th>duration_ms</th>\n",
       "    </tr>\n",
       "    <tr>\n",
       "      <th>id</th>\n",
       "      <th></th>\n",
       "      <th></th>\n",
       "      <th></th>\n",
       "      <th></th>\n",
       "      <th></th>\n",
       "      <th></th>\n",
       "      <th></th>\n",
       "      <th></th>\n",
       "      <th></th>\n",
       "      <th></th>\n",
       "    </tr>\n",
       "  </thead>\n",
       "  <tbody>\n",
       "    <tr>\n",
       "      <th>17i5jLpzndlQhbS4SrTd0B</th>\n",
       "      <td>0.275</td>\n",
       "      <td>0.157</td>\n",
       "      <td>0.578072</td>\n",
       "      <td>0.0636</td>\n",
       "      <td>0.89</td>\n",
       "      <td>0.842</td>\n",
       "      <td>0.186</td>\n",
       "      <td>0.304</td>\n",
       "      <td>0.343939</td>\n",
       "      <td>0.081501</td>\n",
       "    </tr>\n",
       "  </tbody>\n",
       "</table>\n",
       "</div>"
      ],
      "text/plain": [
       "                        danceability  energy  loudness  speechiness  \\\n",
       "id                                                                    \n",
       "17i5jLpzndlQhbS4SrTd0B         0.275   0.157  0.578072       0.0636   \n",
       "\n",
       "                        acousticness  instrumentalness  liveness  valence  \\\n",
       "id                                                                          \n",
       "17i5jLpzndlQhbS4SrTd0B          0.89             0.842     0.186    0.304   \n",
       "\n",
       "                           tempo  duration_ms  \n",
       "id                                             \n",
       "17i5jLpzndlQhbS4SrTd0B  0.343939     0.081501  "
      ]
     },
     "execution_count": 50,
     "metadata": {},
     "output_type": "execute_result"
    }
   ],
   "source": [
    "song_vector = song\n",
    "song_vector"
   ]
  },
  {
   "cell_type": "code",
   "execution_count": 54,
   "id": "75b0d004",
   "metadata": {},
   "outputs": [
    {
     "name": "stdout",
     "output_type": "stream",
     "text": [
      "Podobnost pesmi in playlista: 0.97 (mean)\n",
      "Podobnost pesmi in playlista: 0.97 (sum)\n"
     ]
    }
   ],
   "source": [
    "print(\"Podobnost pesmi in playlista: %.2f (mean)\" % cosine_similarity(playlist_vector1_mean, song_vector)[0][0])\n",
    "print(\"Podobnost pesmi in playlista: %.2f (sum)\" % cosine_similarity(playlist_vector1_sum, song_vector)[0][0])"
   ]
  },
  {
   "cell_type": "code",
   "execution_count": 55,
   "id": "63c064bf",
   "metadata": {},
   "outputs": [],
   "source": [
    "from sklearn.ensemble import RandomForestClassifier\n",
    "import numpy as np\n",
    "from sklearn.metrics.pairwise import cosine_similarity"
   ]
  },
  {
   "cell_type": "markdown",
   "id": "bcfa256d",
   "metadata": {},
   "source": [
    "Vektorju atributov playlista boma dodali se deleze zanrov pesmi, ki jih ta playlist vsebuje. \n",
    "\n",
    "Se pravi bomo vektorju dodali 6 vrednosti, vsaka bo predstavljala delez pesmi tega zanra na playlistu. \n",
    "\n",
    "Primer: ce imamo playlist klasike bodo vrednosti 0,0,0,0,0,1 (1 predstavlja 100% delez pesmi klasike)."
   ]
  },
  {
   "cell_type": "code",
   "execution_count": 60,
   "id": "30cb2bf6",
   "metadata": {},
   "outputs": [],
   "source": [
    "df_track = pd.read_csv('Data\\Genre\\Tracks_classification_5.csv', index_col=0)\n",
    "df_audio = df_track.loc[:, ['danceability', 'energy', 'loudness', \n",
    "                      'speechiness', 'acousticness', 'instrumentalness',\n",
    "                       'liveness', 'valence', 'tempo', 'duration_ms', 'genre']]"
   ]
  },
  {
   "cell_type": "code",
   "execution_count": 61,
   "id": "7e998a51",
   "metadata": {},
   "outputs": [
    {
     "data": {
      "text/plain": [
       "0.15357866885277163"
      ]
     },
     "execution_count": 61,
     "metadata": {},
     "output_type": "execute_result"
    }
   ],
   "source": [
    "df_track['duration_ms'].mean()"
   ]
  },
  {
   "cell_type": "code",
   "execution_count": 62,
   "id": "89e1e5e4",
   "metadata": {},
   "outputs": [
    {
     "name": "stdout",
     "output_type": "stream",
     "text": [
      "(81712, 11)\n"
     ]
    }
   ],
   "source": [
    "print(df_audio.shape)"
   ]
  },
  {
   "cell_type": "code",
   "execution_count": 63,
   "id": "37be579d",
   "metadata": {},
   "outputs": [],
   "source": [
    "def genre_vector(predict):\n",
    "    genres = ['pop', 'rock', 'rap', 'edm', 'latin', 'classical']\n",
    "    genre_v = [0] * 6\n",
    "    for x in predict:\n",
    "        index = genres.index(x)\n",
    "        genre_v[index] += 1\n",
    "        \n",
    "    for i, x1 in enumerate(genre_v):\n",
    "        genre_v[i] = x1/ len(predict)\n",
    "        \n",
    "    return genre_v\n",
    "\n",
    "def make_vector(pl, audio_df):\n",
    "    playlist1 = audio_df[pl]\n",
    "    X_test = audio_df[pl] \n",
    "    Y_predict = classifier.predict(X_test)\n",
    "    playlist_vector1 = playlist_vector(playlist1, 'mean')\n",
    "    \n",
    "    genre_v = genre_vector(Y_predict)\n",
    "    return list(playlist_vector1) + genre_v\n",
    "\n",
    "def make_vector_song(pl, audio_df):\n",
    "    song = audio_df[pl].sample()\n",
    "    X_test = audio_df[pl].sample()\n",
    "    Y_predict = classifier.predict(X_test)\n",
    "    song_vector1 = playlist_vector(song, 'mean')\n",
    "    \n",
    "    genre_v = genre_vector(Y_predict)\n",
    "    return list(song_vector1) + genre_v"
   ]
  },
  {
   "cell_type": "code",
   "execution_count": 64,
   "id": "30d11f77",
   "metadata": {},
   "outputs": [
    {
     "name": "stdout",
     "output_type": "stream",
     "text": [
      "['pop' 'pop' 'pop' ... 'classical' 'classical' 'classical']\n",
      "[[0.594      0.713      0.87755954 ... 0.328      0.52389744 0.19776463]\n",
      " [0.516      0.777      0.88407472 ... 0.408      0.50409981 0.13880682]\n",
      " [0.645      0.593      0.85843122 ... 0.299      0.4433766  0.15480744]\n",
      " ...\n",
      " [0.0961     0.0508     0.55423968 ... 0.0351     0.31729823 0.44921574]\n",
      " [0.0723     0.102      0.60457988 ... 0.0369     0.25974764 0.25928797]\n",
      " [0.147      0.309      0.74053213 ... 0.335      0.29852858 0.13470945]]\n"
     ]
    }
   ],
   "source": [
    "Y = df_audio.pop('genre').values\n",
    "print(Y)\n",
    "X = df_audio.values\n",
    "print(X)"
   ]
  },
  {
   "cell_type": "code",
   "execution_count": 65,
   "id": "bebdec74",
   "metadata": {},
   "outputs": [
    {
     "data": {
      "text/plain": [
       "RandomForestClassifier()"
      ]
     },
     "execution_count": 65,
     "metadata": {},
     "output_type": "execute_result"
    }
   ],
   "source": [
    "classifier = RandomForestClassifier(n_estimators=100)\n",
    "classifier.fit(X, Y) "
   ]
  },
  {
   "cell_type": "code",
   "execution_count": 66,
   "id": "d58bc0b2",
   "metadata": {},
   "outputs": [],
   "source": [
    " # PLAYLISTS\n",
    "    # 0,1,2,3 - classical\n",
    "    # 4,5,6,7 - rap\n",
    "    # 8,9 - edm\n",
    "    # 10 - techno\n",
    "    # 11 - House\n",
    "    # 12,13,14,15 - rock\n",
    "    # 16,17,18,19 - latin\n",
    "    # 20,21,22,23 - pop"
   ]
  },
  {
   "cell_type": "code",
   "execution_count": 79,
   "id": "391ff927",
   "metadata": {
    "scrolled": false
   },
   "outputs": [
    {
     "name": "stdout",
     "output_type": "stream",
     "text": [
      "(147, 10)\n"
     ]
    }
   ],
   "source": [
    "# Predict y data with classifier:\n",
    "X_test = audio_df[0] \n",
    "\n",
    "print(X_test.shape)\n",
    "Y_predict = classifier.predict(X_test)"
   ]
  },
  {
   "cell_type": "code",
   "execution_count": 80,
   "id": "d13a8f88",
   "metadata": {},
   "outputs": [
    {
     "data": {
      "text/plain": [
       "array(['classical', 'classical', 'classical', 'classical', 'classical',\n",
       "       'classical', 'classical', 'classical', 'classical', 'classical',\n",
       "       'classical', 'classical', 'classical', 'classical', 'classical',\n",
       "       'classical', 'classical', 'classical', 'classical', 'classical',\n",
       "       'classical', 'classical', 'classical', 'classical', 'classical',\n",
       "       'classical', 'classical', 'classical', 'classical', 'classical',\n",
       "       'classical', 'classical', 'classical', 'classical', 'classical',\n",
       "       'classical', 'classical', 'classical', 'classical', 'classical',\n",
       "       'classical', 'classical', 'classical', 'classical', 'classical',\n",
       "       'classical', 'classical', 'classical', 'classical', 'classical',\n",
       "       'classical', 'classical', 'classical', 'classical', 'classical',\n",
       "       'classical', 'classical', 'classical', 'classical', 'classical',\n",
       "       'classical', 'classical', 'classical', 'classical', 'classical',\n",
       "       'classical', 'classical', 'classical', 'classical', 'classical',\n",
       "       'classical', 'classical', 'classical', 'classical', 'classical',\n",
       "       'classical', 'classical', 'classical', 'classical', 'classical',\n",
       "       'classical', 'classical', 'classical', 'classical', 'classical',\n",
       "       'classical', 'classical', 'classical', 'classical', 'classical',\n",
       "       'classical', 'classical', 'classical', 'classical', 'classical',\n",
       "       'classical', 'classical', 'classical', 'classical', 'classical',\n",
       "       'classical', 'classical', 'classical', 'classical', 'classical',\n",
       "       'classical', 'classical', 'classical', 'classical', 'classical',\n",
       "       'classical', 'classical', 'classical', 'classical', 'classical',\n",
       "       'classical', 'classical', 'classical', 'classical', 'classical',\n",
       "       'classical', 'classical', 'classical', 'classical', 'classical',\n",
       "       'classical', 'classical', 'classical', 'rock', 'classical',\n",
       "       'classical', 'classical', 'classical', 'classical', 'classical',\n",
       "       'classical', 'classical', 'classical', 'classical', 'classical',\n",
       "       'classical', 'classical', 'classical', 'classical', 'classical',\n",
       "       'classical', 'classical'], dtype=object)"
      ]
     },
     "execution_count": 80,
     "metadata": {},
     "output_type": "execute_result"
    }
   ],
   "source": [
    "Y_predict"
   ]
  },
  {
   "cell_type": "code",
   "execution_count": 81,
   "id": "5beb2e29",
   "metadata": {
    "scrolled": true
   },
   "outputs": [
    {
     "name": "stdout",
     "output_type": "stream",
     "text": [
      "Delez zanrov v playlistu 14\n",
      "pop: 0.00\n",
      "rock: 0.01\n",
      "rap: 0.00\n",
      "edm: 0.00\n",
      "latin: 0.00\n",
      "classical: 0.99\n"
     ]
    }
   ],
   "source": [
    "print(\"Delez zanrov v playlistu 14\")\n",
    "genres = ['pop', 'rock', 'rap', 'edm', 'latin', 'classical']\n",
    "genre_v = genre_vector(Y_predict)\n",
    "for i, x in enumerate(genre_v):\n",
    "    print(\"%s: %.2f\" % (genres[i], x))"
   ]
  },
  {
   "cell_type": "code",
   "execution_count": 82,
   "id": "ed8fa7b2",
   "metadata": {
    "scrolled": false
   },
   "outputs": [
    {
     "data": {
      "text/plain": [
       "[danceability        0.251546\n",
       " energy              0.103633\n",
       " loudness            0.474097\n",
       " speechiness         0.044664\n",
       " acousticness        0.920912\n",
       " instrumentalness    0.735260\n",
       " liveness            0.122095\n",
       " valence             0.152078\n",
       " tempo               0.483158\n",
       " duration_ms         0.277712\n",
       " dtype: float64]"
      ]
     },
     "execution_count": 82,
     "metadata": {},
     "output_type": "execute_result"
    }
   ],
   "source": [
    "playlist_vector1_mean"
   ]
  },
  {
   "cell_type": "markdown",
   "id": "d14d9a10",
   "metadata": {},
   "source": [
    "Delez zanrov zdruzimo z vektorjem audio lastnosti s funkcijo 'make_vector'."
   ]
  },
  {
   "cell_type": "code",
   "execution_count": 83,
   "id": "a0e5e88c",
   "metadata": {
    "scrolled": true
   },
   "outputs": [
    {
     "data": {
      "text/plain": [
       "[0.25154625850340134,\n",
       " 0.1036328571428572,\n",
       " 0.47409691961369116,\n",
       " 0.04466394557823131,\n",
       " 0.9209115646258503,\n",
       " 0.735260486054422,\n",
       " 0.12209523809523812,\n",
       " 0.15207755102040815,\n",
       " 0.48315834332813323,\n",
       " 0.2777122218694979,\n",
       " 0.0,\n",
       " 0.006802721088435374,\n",
       " 0.0,\n",
       " 0.0,\n",
       " 0.0,\n",
       " 0.9931972789115646]"
      ]
     },
     "execution_count": 83,
     "metadata": {},
     "output_type": "execute_result"
    }
   ],
   "source": [
    "make_vector(0, audio_df)"
   ]
  },
  {
   "cell_type": "code",
   "execution_count": 25,
   "id": "35dd2a28",
   "metadata": {},
   "outputs": [],
   "source": [
    " # PLAYLISTS\n",
    "    # 0,1,2,3 - classical\n",
    "    # 4,5,6,7 - rap\n",
    "    # 8,9 - edm\n",
    "    # 10 - techno\n",
    "    # 11 - House\n",
    "    # 12,13,14,15 - rock\n",
    "    # 16,17,18,19 - latin\n",
    "    # 20,21,22,23 - pop"
   ]
  },
  {
   "cell_type": "code",
   "execution_count": 89,
   "id": "63bb0d2c",
   "metadata": {},
   "outputs": [],
   "source": [
    "pl1_classic = [make_vector(0, audio_df)]\n",
    "pl2_classic = [make_vector(2, audio_df)]\n",
    "pl3_rap = [make_vector(5, audio_df)]\n",
    "pl4_rap = [make_vector(7, audio_df)]\n",
    "pl5_latin = [make_vector(18, audio_df)]\n",
    "pl6_rock = [make_vector(14, audio_df)]\n",
    "pl7_edm = [make_vector(9, audio_df)]\n",
    "pl8_pop = [make_vector(21, audio_df)]"
   ]
  },
  {
   "cell_type": "code",
   "execution_count": 92,
   "id": "e8c7eb0e",
   "metadata": {
    "scrolled": true
   },
   "outputs": [
    {
     "name": "stdout",
     "output_type": "stream",
     "text": [
      "Podobnost playlistov:\n",
      "\n",
      "Klasika - klasika: 1.00\n",
      "Klasika - edm: 0.40\n",
      "\n",
      "Rap - rap: 0.99\n",
      "Rap - pop: 0.91\n",
      "Rap - latin: 0.86\n",
      "Rap - rock: 0.83\n",
      "Rap - edm: 0.80\n",
      "Rap - klasika: 0.39\n",
      "\n",
      "edm - pop: 0.91\n",
      "edm - rock: 0.88\n",
      "edm - latin: 0.78\n"
     ]
    }
   ],
   "source": [
    "print(\"Podobnost playlistov:\\n\")\n",
    "print(\"Klasika - klasika: %.2f\" % cosine_similarity(pl1_classic, pl2_classic)[0][0])\n",
    "print(\"Klasika - edm: %.2f\" % cosine_similarity(pl1_classic, pl7_edm)[0][0])\n",
    "print()\n",
    "print(\"Rap - rap: %.2f\" % cosine_similarity(pl3_rap, pl4_rap)[0][0])\n",
    "print(\"Rap - pop: %.2f\" % cosine_similarity(pl3_rap, pl8_pop)[0][0])\n",
    "print(\"Rap - latin: %.2f\" % cosine_similarity(pl3_rap, pl5_latin)[0][0])\n",
    "print(\"Rap - rock: %.2f\" % cosine_similarity(pl3_rap, pl6_rock)[0][0])\n",
    "print(\"Rap - edm: %.2f\" % cosine_similarity(pl3_rap, pl7_edm)[0][0])\n",
    "print(\"Rap - klasika: %.2f\" % cosine_similarity(pl3_rap, pl2_classic)[0][0])\n",
    "print()\n",
    "print(\"edm - pop: %.2f\" % cosine_similarity(pl7_edm, pl8_pop)[0][0])\n",
    "print(\"edm - rock: %.2f\" % cosine_similarity(pl7_edm, pl6_rock)[0][0])\n",
    "print(\"edm - latin: %.2f\" % cosine_similarity(pl7_edm, pl5_latin)[0][0])"
   ]
  },
  {
   "cell_type": "markdown",
   "id": "d19060bc",
   "metadata": {},
   "source": [
    "Opazimo, da je primerjava 2 playlistov klasike ali rapa 1, kar pomeni, da metoda primerjanja playlistov deluje. \n",
    "\n",
    "Vidimo da je rap playlista nabolj podobna pop playlisti, nato latino, rock, edm in na konca najmanj podobna kalsiki. \n",
    "\n",
    "Za edm pa vidimo, da je najbolj podobna popu in rocku. "
   ]
  },
  {
   "cell_type": "markdown",
   "id": "0daa8e36",
   "metadata": {},
   "source": [
    "Z metodo podobnosti primerjamo se playliste in pesmi. S tem lahko v praksi neakj novo pojavljenih pesmi na platformi, primerjamo s playlisti razlicnih oseb, in pesem predlagamo osebam, ki so najbolj podobni."
   ]
  },
  {
   "cell_type": "code",
   "execution_count": 93,
   "id": "21f389eb",
   "metadata": {},
   "outputs": [
    {
     "data": {
      "text/plain": [
       "[0.0667,\n",
       " 0.047,\n",
       " 0.4236633273951368,\n",
       " 0.0425,\n",
       " 0.928,\n",
       " 0.9,\n",
       " 0.0652,\n",
       " 0.0281,\n",
       " 0.35406195591472023,\n",
       " 0.4454987539150365,\n",
       " 0.0,\n",
       " 0.0,\n",
       " 0.0,\n",
       " 0.0,\n",
       " 0.0,\n",
       " 1.0]"
      ]
     },
     "execution_count": 93,
     "metadata": {},
     "output_type": "execute_result"
    }
   ],
   "source": [
    "song1_classic = make_vector_song(0, audio_df)\n",
    "song1_classic"
   ]
  },
  {
   "cell_type": "code",
   "execution_count": 94,
   "id": "81e1807d",
   "metadata": {},
   "outputs": [],
   "source": [
    "song1_classic = [make_vector_song(0, audio_df)]\n",
    "song2_rap = [make_vector_song(5, audio_df)]\n",
    "song3_edm = [make_vector_song(8, audio_df)]\n",
    "song4_latin = [make_vector_song(17, audio_df)]\n",
    "song5_rock = [make_vector_song(14, audio_df)]"
   ]
  },
  {
   "cell_type": "code",
   "execution_count": 95,
   "id": "adf0c9c8",
   "metadata": {},
   "outputs": [
    {
     "name": "stdout",
     "output_type": "stream",
     "text": [
      "Podobnost playlist in pesmi:\n",
      "\n",
      "Klasicna - klasicna: 0.93\n",
      "Klasicna - edm: 0.35\n",
      "\n",
      "Rap - rap: 0.95\n",
      "Rap - latin: 0.81\n",
      "Rap - rock: 0.74\n",
      "Rap - edm: 0.81\n",
      "Rap - klasika: 0.32\n"
     ]
    }
   ],
   "source": [
    "print(\"Podobnost playlist in pesmi:\\n\")\n",
    "print(\"Klasicna - klasicna: %.2f\" % cosine_similarity(pl1_classic, song1_classic)[0][0])\n",
    "print(\"Klasicna - edm: %.2f\" % cosine_similarity(pl1_classic, song3_edm)[0][0])\n",
    "print()\n",
    "print(\"Rap - rap: %.2f\" % cosine_similarity(pl3_rap, song2_rap)[0][0])\n",
    "print(\"Rap - latin: %.2f\" % cosine_similarity(pl3_rap, song4_latin)[0][0])\n",
    "print(\"Rap - rock: %.2f\" % cosine_similarity(pl3_rap, song5_rock)[0][0])\n",
    "print(\"Rap - edm: %.2f\" % cosine_similarity(pl3_rap, song3_edm)[0][0])\n",
    "print(\"Rap - klasika: %.2f\" % cosine_similarity(pl3_rap, song1_classic)[0][0])"
   ]
  },
  {
   "cell_type": "markdown",
   "id": "b16ca412",
   "metadata": {},
   "source": [
    "Enako kot pri primerjanju playlistov opazimu tudi pri primerjnaju s pesmi. Ce primrjamo pesem klasike s playlistom klasike dobimo 93% podobnost, enako s pesmijo rapa.\n",
    "\n",
    "Vidimo, da pri prierjavi pesmi klasike in playlista edm zelo mala podobnost in enako pri primerjavi rapa in klasike."
   ]
  },
  {
   "cell_type": "markdown",
   "id": "7b9e6c7f",
   "metadata": {},
   "source": [
    "Ta metoda (primerjava vektorejv) za playliste in pesmi deluje dobro pri playlistih, kjer imamo pesmi istega zanra (vektor bo izracunan iz povprecja atributov in bo predstavljal to zvrst). Problem pa nastane, kjer imamo na playlistu polovico pesmi 1 zanra in polovico nasprotnega zanra (po vrednotih atributov). V takem primeru, bi se vrednosti atributov pokrajsali in bi dobili neke 3. vrednosti, ki niso podobni ne pesmim 1 zanra ne drugega."
   ]
  },
  {
   "cell_type": "code",
   "execution_count": null,
   "id": "d0ba0167",
   "metadata": {},
   "outputs": [],
   "source": []
  }
 ],
 "metadata": {
  "kernelspec": {
   "display_name": "Python 3 (ipykernel)",
   "language": "python",
   "name": "python3"
  },
  "language_info": {
   "codemirror_mode": {
    "name": "ipython",
    "version": 3
   },
   "file_extension": ".py",
   "mimetype": "text/x-python",
   "name": "python",
   "nbconvert_exporter": "python",
   "pygments_lexer": "ipython3",
   "version": "3.7.3"
  },
  "latex_envs": {
   "LaTeX_envs_menu_present": true,
   "autoclose": false,
   "autocomplete": true,
   "bibliofile": "biblio.bib",
   "cite_by": "apalike",
   "current_citInitial": 1,
   "eqLabelWithNumbers": true,
   "eqNumInitial": 1,
   "hotkeys": {
    "equation": "Ctrl-E",
    "itemize": "Ctrl-I"
   },
   "labels_anchors": false,
   "latex_user_defs": false,
   "report_style_numbering": false,
   "user_envs_cfg": false
  },
  "nbTranslate": {
   "displayLangs": [
    "*"
   ],
   "hotkey": "alt-t",
   "langInMainMenu": true,
   "sourceLang": "en",
   "targetLang": "fr",
   "useGoogleTranslate": true
  }
 },
 "nbformat": 4,
 "nbformat_minor": 5
}
